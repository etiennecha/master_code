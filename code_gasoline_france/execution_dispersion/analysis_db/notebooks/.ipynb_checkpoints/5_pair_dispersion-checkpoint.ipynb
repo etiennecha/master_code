{
 "metadata": {
  "name": ""
 },
 "nbformat": 3,
 "nbformat_minor": 0,
 "worksheets": [
  {
   "cells": [
    {
     "cell_type": "heading",
     "level": 1,
     "metadata": {},
     "source": [
      "The French retail gasoline market: pair price dispersion"
     ]
    },
    {
     "cell_type": "code",
     "collapsed": false,
     "input": [
      "import add_to_path_sub\n",
      "from add_to_path_sub import path_data\n",
      "from generic_master_price import *\n",
      "from generic_competition import *\n",
      "import time\n",
      "\n",
      "path_dir_built_paper = os.path.join(path_data, 'data_gasoline', 'data_built', 'data_paper')\n",
      "\n",
      "path_dir_built_json = os.path.join(path_dir_built_paper, 'data_json')\n",
      "path_diesel_price = os.path.join(path_dir_built_json, 'master_price_diesel.json')\n",
      "path_info = os.path.join(path_dir_built_json, 'master_info_diesel.json')\n",
      "path_ls_ls_competitors = os.path.join(path_dir_built_json, 'ls_ls_competitors.json')\n",
      "path_ls_tuple_competitors = os.path.join(path_dir_built_json, 'ls_tuple_competitors.json')\n",
      "\n",
      "path_dir_source = os.path.join(path_data, 'data_gasoline', 'data_source')\n",
      "path_dict_brands = os.path.join(path_dir_source, 'data_other', 'dict_brands.json')\n",
      "\n",
      "master_price = dec_json(path_diesel_price)\n",
      "master_info = dec_json(path_info)\n",
      "ls_ls_competitors = dec_json(path_ls_ls_competitors)\n",
      "ls_tuple_competitors = dec_json(path_ls_tuple_competitors)\n",
      "dict_brands = dec_json(path_dict_brands)\n",
      "\n",
      "zero_threshold = np.float64(1e-10)\n",
      "km_bound = 5\n",
      "master_np_prices = np.array(master_price['diesel_price'], np.float64)\n",
      "df_price = pd.DataFrame(master_np_prices.T, index = master_price['dates'], columns = master_price['ids'])\n",
      "# df_price = pd.DataFrame(master_price['diesel_price'], columns = master_price['dates'], index = master_price['ids']).T\n",
      "\n",
      "km_bound = 5\n",
      "ls_ppd = []\n",
      "for indiv_id, ls_indiv_comp in zip(master_price['ids'], ls_ls_competitors):\n",
      "  indiv_ind_1 = master_price['ids'].index(indiv_id)\n",
      "  for (comp_id, distance) in ls_indiv_comp:\n",
      "    indiv_ind_2 = master_price['ids'].index(comp_id)\n",
      "    if distance < km_bound:\n",
      "      # ls_comp_pd = get_pair_price_dispersion(df_price[indiv_id], df_price[comp_id], light = False)\n",
      "      ls_comp_pd = get_pair_price_dispersion(master_np_prices[indiv_ind_1],\n",
      "                                             master_np_prices[indiv_ind_2], \n",
      "                                             light = False)\n",
      "      ls_ppd.append([indiv_id, comp_id, distance] + ls_comp_pd)"
     ],
     "language": "python",
     "metadata": {},
     "outputs": [
      {
       "output_type": "stream",
       "stream": "stderr",
       "text": [
        "C:\\Python27\\lib\\site-packages\\numpy\\core\\_methods.py:55: RuntimeWarning: Mean of empty slice.\n",
        "  warnings.warn(\"Mean of empty slice.\", RuntimeWarning)\n"
       ]
      }
     ],
     "prompt_number": 1
    },
    {
     "cell_type": "code",
     "collapsed": false,
     "input": [
      "#ppd_test = get_pair_price_dispersion(master_np_prices[0], master_np_prices[1], light = False)\n",
      "print ls_ppd[0][:3] + ls_ppd[0][3] + get_ls_standardized_frequency(ls_ppd[0][6][0])"
     ],
     "language": "python",
     "metadata": {},
     "outputs": [
      {
       "output_type": "stream",
       "stream": "stdout",
       "text": [
        "[u'1500007', u'1500001', 1.28, 564, 458, 59, 47, 13, 0.083333333333333329, 0.01148936170212767, 0.010000000000000009, 0.0024751773049645404, 0.00056028368794326211, 0.0070706847775238611, 4, 1, 2, 2, 1, 3, 0]\n"
       ]
      }
     ],
     "prompt_number": 4
    },
    {
     "cell_type": "code",
     "collapsed": false,
     "input": [
      "ls_scalars = ['nb_spread', 'nb_same_price', 'nb_a_cheaper', 'nb_b_cheaper', \n",
      "                'nb_rr', 'pct_rr', 'avg_abs_spread_rr', 'med_abs_spread_rr',\n",
      "                'avg_abs_spread', 'avg_spread', 'std_spread']\n",
      "ls_freq_std = ['rr_1', 'rr_2', 'rr_3', 'rr_4', 'rr_5', '5<rr<=20', 'rr>20']\n",
      "ls_columns = ['id_1', 'id_2', 'distance'] + ls_scalars + ls_freq_std\n",
      "ls_ppd_light = [ppd[:3] + ppd[3] + get_ls_standardized_frequency(ppd[6][0]) for ppd in ls_ppd]\n",
      "df_ppd = pd.DataFrame(ls_ppd_light, columns = ls_columns)\n",
      "df_ppd['pct_same_price'] = df_ppd['nb_same_price'] / df_ppd['nb_spread']\n",
      "pd.options.display.float_format = '{:6,.4f}'.format"
     ],
     "language": "python",
     "metadata": {},
     "outputs": [],
     "prompt_number": 6
    },
    {
     "cell_type": "code",
     "collapsed": false,
     "input": [
      "# DF BRAND (LIGHT)\n",
      "dict_std_brands = {v[0]: v for k, v in dict_brands.items()}\n",
      "ls_brands = []\n",
      "for indiv_id in master_price['ids']:\n",
      "  indiv_dict_info = master_price['dict_info'][indiv_id]\n",
      "  brand_1_b = indiv_dict_info['brand_std'][0][0]\n",
      "  brand_2_b = dict_std_brands[indiv_dict_info['brand_std'][0][0]][1]\n",
      "  brand_type_b = dict_std_brands[indiv_dict_info['brand_std'][0][0]][2]\n",
      "  brand_1_e = indiv_dict_info['brand_std'][-1][0]\n",
      "  brand_2_e = dict_std_brands[indiv_dict_info['brand_std'][-1][0]][1]\n",
      "  brand_type_e = dict_std_brands[indiv_dict_info['brand_std'][-1][0]][2]\n",
      "  ls_brands.append([brand_1_b, brand_2_b, brand_type_b,\n",
      "                    brand_1_e, brand_2_e, brand_type_e])\n",
      "ls_columns = ['brand_1_b', 'brand_2_b', 'brand_type_b', 'brand_1_e', 'brand_2_e', 'brand_type_e']\n",
      "df_brands = pd.DataFrame(ls_brands, index = master_price['ids'], columns = ls_columns)\n",
      "df_brands['id'] = df_brands.index\n",
      "\n",
      "# DF PRICE CHGES\n",
      "ls_indiv_chges = []\n",
      "for indiv_ind, indiv_id in enumerate(master_price['ids']):\n",
      "  ls_indiv_chges.append(get_stats_price_chges(master_np_prices[indiv_ind], light = True))\n",
      "ls_columns = ['nb_all_chges', 'nb_valid', 'nb_no_chge', 'nb_chges', 'nb_neg_chges', 'nb_pos_chges',\n",
      "                'avg_neg_chge', 'avg_pos_chge', 'med_neg_chge', 'med_pos_chge']\n",
      "df_indiv_chges = pd.DataFrame(ls_indiv_chges, index = master_price['ids'], columns = ls_columns)\n",
      "df_brands = pd.merge(df_brands, df_indiv_chges, right_index = True, left_index = True)\n",
      "\n",
      "# MERGE DF BRANDS AND DF PAIR PD STATS (caution: changes order)\n",
      "df_brands = df_brands.rename(columns={'id': 'id_1'})\n",
      "df_ppd = pd.merge(df_ppd, df_brands, on='id_1')\n",
      "df_brands = df_brands.rename(columns={'id_1': 'id_2'})\n",
      "df_ppd = pd.merge(df_ppd, df_brands, on='id_2', suffixes=('_1', '_2'))"
     ],
     "language": "python",
     "metadata": {},
     "outputs": [],
     "prompt_number": 7
    },
    {
     "cell_type": "code",
     "collapsed": false,
     "input": [
      "print len(df_ppd)\n",
      "df_ppd = df_ppd[(df_ppd['nb_spread'] > 60)]\n",
      "print len(df_ppd)\n",
      "print df_ppd.ix[0]"
     ],
     "language": "python",
     "metadata": {},
     "outputs": [
      {
       "output_type": "stream",
       "stream": "stdout",
       "text": [
        "70706\n",
        "70164"
       ]
      },
      {
       "output_type": "stream",
       "stream": "stdout",
       "text": [
        "\n",
        "id_1                          1500007\n",
        "id_2                          1500001\n",
        "distance                       1.2800\n",
        "nb_spread                         564\n",
        "nb_same_price                     458\n",
        "nb_a_cheaper                       59\n",
        "nb_b_cheaper                       47\n",
        "nb_rr                              13\n",
        "pct_rr                         0.0833\n",
        "avg_abs_spread_rr              0.0115\n",
        "med_abs_spread_rr              0.0100\n",
        "avg_abs_spread                 0.0025\n",
        "avg_spread                     0.0006\n",
        "std_spread                     0.0071\n",
        "rr_1                                4\n",
        "rr_2                                1\n",
        "rr_3                                2\n",
        "rr_4                                2\n",
        "rr_5                                1\n",
        "5<rr<=20                            3\n",
        "rr>20                               0\n",
        "pct_same_price                 0.8121\n",
        "brand_1_b_1               INTERMARCHE\n",
        "brand_2_b_1             MOUSQUETAIRES\n",
        "brand_type_b_1                    SUP\n",
        "brand_1_e_1               INTERMARCHE\n",
        "brand_2_e_1             MOUSQUETAIRES\n",
        "brand_type_e_1                    SUP\n",
        "nb_all_chges_1                     96\n",
        "nb_valid_1                        559\n",
        "nb_no_chge_1                      467\n",
        "nb_chges_1                         92\n",
        "nb_neg_chges_1                     48\n",
        "nb_pos_chges_1                     44\n",
        "avg_neg_chge_1                -0.0137\n",
        "avg_pos_chge_1                 0.0127\n",
        "med_neg_chge_1                -0.0100\n",
        "med_pos_chge_1                 0.0100\n",
        "brand_1_b_2          CARREFOUR_MARKET\n",
        "brand_2_b_2                 CARREFOUR\n",
        "brand_type_b_2                    SUP\n",
        "brand_1_e_2          CARREFOUR_MARKET\n",
        "brand_2_e_2                 CARREFOUR\n",
        "brand_type_e_2                    SUP\n",
        "nb_all_chges_2                    106\n",
        "nb_valid_2                        559\n",
        "nb_no_chge_2                      457\n",
        "nb_chges_2                        102\n",
        "nb_neg_chges_2                     52\n",
        "nb_pos_chges_2                     50\n",
        "avg_neg_chge_2                -0.0119\n",
        "avg_pos_chge_2                 0.0108\n",
        "med_neg_chge_2                -0.0100\n",
        "med_pos_chge_2                 0.0100\n",
        "Name: 0, Length: 54, dtype: object\n"
       ]
      }
     ],
     "prompt_number": 8
    },
    {
     "cell_type": "markdown",
     "metadata": {},
     "source": [
      "First question: where to cut: differentiation or not? (Can argue about the value of spread too?)\n",
      "Requiring more than 10 rank reversals: a lot less above 0.02 ... can use as a threshold (would need to argue)"
     ]
    },
    {
     "cell_type": "code",
     "collapsed": false,
     "input": [
      "hist_test = plt.hist(df_ppd['avg_spread'][~pd.isnull(df_ppd['avg_spread'])].values, bins = 100)\n",
      "for i in range(10):\n",
      "  print i, len(df_ppd[np.abs(df_ppd['avg_spread']) > i * 10**(-2)]),\\\n",
      "        len(df_ppd[(np.abs(df_ppd['avg_spread']) > i * 10**(-2)) & (df_ppd['nb_rr'] > 10)])"
     ],
     "language": "python",
     "metadata": {},
     "outputs": [
      {
       "output_type": "stream",
       "stream": "stdout",
       "text": [
        "0 70092 22366\n",
        "1 "
       ]
      },
      {
       "output_type": "stream",
       "stream": "stdout",
       "text": [
        "53178 7298\n",
        "2 45054 2242\n",
        "3 39798 1310\n",
        "4 "
       ]
      },
      {
       "output_type": "stream",
       "stream": "stdout",
       "text": [
        "35798 1034\n",
        "5 32208 734\n",
        "6 28520 468\n",
        "7 24244 238\n",
        "8 19862 "
       ]
      },
      {
       "output_type": "stream",
       "stream": "stdout",
       "text": [
        "98\n",
        "9 15682 28\n"
       ]
      },
      {
       "metadata": {},
       "output_type": "display_data",
       "png": "[encoded data removed]",
       "text": [
        "<matplotlib.figure.Figure at 0x29176c90>"
       ]
      }
     ],
     "prompt_number": 7
    },
    {
     "cell_type": "code",
     "collapsed": false,
     "input": [
      "df_ppd_nodiff = df_ppd[np.abs(df_ppd['avg_spread']) <= 0.02]\n",
      "df_ppd_diff = df_ppd[np.abs(df_ppd['avg_spread']) > 0.02]\n",
      "print len(df_ppd_nodiff), len(df_ppd_diff)"
     ],
     "language": "python",
     "metadata": {},
     "outputs": [
      {
       "output_type": "stream",
       "stream": "stdout",
       "text": [
        "25110 45054\n"
       ]
      }
     ],
     "prompt_number": 30
    },
    {
     "cell_type": "code",
     "collapsed": false,
     "input": [
      "print len(df_ppd_nodiff['pct_rr'][df_ppd_nodiff['pct_rr'] <= zero_threshold])\n",
      "#hist_test = plt.hist(df_ppd_nodiff['pct_rr'][~pd.isnull(df_ppd_nodiff['pct_rr'])], bins = 50)\n",
      "from statsmodels.distributions.empirical_distribution import ECDF\n",
      "sample = df_ppd_nodiff['pct_rr'][~pd.isnull(df_ppd_nodiff['pct_rr'])]\n",
      "ecdf = ECDF(sample)\n",
      "x = np.linspace(min(sample), max(sample))\n",
      "y = ecdf(x)\n",
      "plt.step(x, y)"
     ],
     "language": "python",
     "metadata": {},
     "outputs": [
      {
       "output_type": "stream",
       "stream": "stdout",
       "text": [
        "180\n"
       ]
      },
      {
       "metadata": {},
       "output_type": "pyout",
       "prompt_number": 31,
       "text": [
        "[<matplotlib.lines.Line2D at 0x6be44b30>]"
       ]
      },
      {
       "metadata": {},
       "output_type": "display_data",
       "png": "[encoded data removed]",
       "text": [
        "<matplotlib.figure.Figure at 0x6a563b70>"
       ]
      }
     ],
     "prompt_number": 31
    },
    {
     "cell_type": "code",
     "collapsed": false,
     "input": [
      "import statsmodels.api as sm\n",
      "import statsmodels.formula.api as smf\n",
      "# TODO: exclude same brand\n",
      "df_ppd_reg = df_ppd_nodiff\n",
      "df_ppd_reg = df_ppd_reg[(df_ppd_reg['brand_1_e_1'] != 'TOTAL_ACCESS') &\\\n",
      "                        (df_ppd_reg['brand_1_e_2'] != 'TOTAL_ACCESS') &\\\n",
      "                        (df_ppd_reg['brand_1_e_1'] != df_ppd_reg['brand_1_e_2'])]\n",
      "df_ppd_reg['abs_avg_spread'] = np.abs(df_ppd_reg['avg_spread'])\n",
      "# df_ppd_reg = df_ppd_reg[df_ppd_reg['abs_avg_spread'] <= 0.01]\n",
      "print '\\n', smf.ols(formula = 'abs_avg_spread ~ distance', data = df_ppd_reg).fit().summary()\n",
      "print '\\n', smf.ols(formula = 'avg_abs_spread ~ distance', data = df_ppd_reg).fit().summary()\n",
      "print '\\n', smf.ols(formula = 'pct_rr ~ distance', data = df_ppd_reg).fit().summary()\n",
      "print '\\n', smf.ols(formula = 'std_spread ~ distance', data = df_ppd_reg).fit().summary()"
     ],
     "language": "python",
     "metadata": {},
     "outputs": [
      {
       "output_type": "stream",
       "stream": "stdout",
       "text": [
        "\n",
        "                            OLS Regression Results                            \n",
        "==============================================================================\n",
        "Dep. Variable:         abs_avg_spread   R-squared:                       0.013\n",
        "Model:                            OLS   Adj. R-squared:                  0.013\n",
        "Method:                 Least Squares   F-statistic:                     230.0\n",
        "Date:                Thu, 13 Mar 2014   Prob (F-statistic):           1.27e-51\n",
        "Time:                        08:19:42   Log-Likelihood:                 63914.\n",
        "No. Observations:               16960   AIC:                        -1.278e+05\n",
        "Df Residuals:                   16958   BIC:                        -1.278e+05\n",
        "Df Model:                           1                                         \n",
        "==============================================================================\n",
        "                 coef    std err          t      P>|t|      [95.0% Conf. Int.]\n",
        "------------------------------------------------------------------------------\n",
        "Intercept      0.0064      0.000     63.373      0.000         0.006     0.007\n",
        "distance       0.0005   3.21e-05     15.167      0.000         0.000     0.001\n",
        "==============================================================================\n",
        "Omnibus:                     2706.100   Durbin-Watson:                   1.602\n",
        "Prob(Omnibus):                  0.000   Jarque-Bera (JB):             1188.904\n",
        "Skew:                           0.476   Prob(JB):                    6.80e-259\n",
        "Kurtosis:                       2.118   Cond. No.                         7.97\n",
        "==============================================================================\n",
        "\n",
        "                            OLS Regression Results                            \n",
        "==============================================================================\n",
        "Dep. Variable:         avg_abs_spread   R-squared:                       0.032\n",
        "Model:                            OLS   Adj. R-squared:                  0.032\n",
        "Method:                 Least Squares   F-statistic:                     563.8\n",
        "Date:                Thu, 13 Mar 2014   Prob (F-statistic):          1.26e-122\n",
        "Time:                        08:19:42   Log-Likelihood:                 62389.\n",
        "No. Observations:               16960   AIC:                        -1.248e+05\n",
        "Df Residuals:                   16958   BIC:                        -1.248e+05\n",
        "Df Model:                           1                                         \n",
        "==============================================================================\n",
        "                 coef    std err          t      P>|t|      [95.0% Conf. Int.]\n",
        "------------------------------------------------------------------------------\n",
        "Intercept      0.0107      0.000     97.149      0.000         0.010     0.011\n",
        "distance       0.0008   3.51e-05     23.744      0.000         0.001     0.001\n",
        "==============================================================================\n",
        "Omnibus:                     2036.398   Durbin-Watson:                   1.109\n",
        "Prob(Omnibus):                  0.000   Jarque-Bera (JB):             4661.258\n",
        "Skew:                           0.720   Prob(JB):                         0.00\n",
        "Kurtosis:                       5.126   Cond. No.                         7.97\n",
        "=============================================================================="
       ]
      },
      {
       "output_type": "stream",
       "stream": "stdout",
       "text": [
        "\n",
        "\n",
        "                            OLS Regression Results                            \n",
        "==============================================================================\n",
        "Dep. Variable:                 pct_rr   R-squared:                       0.016\n",
        "Model:                            OLS   Adj. R-squared:                  0.016\n",
        "Method:                 Least Squares   F-statistic:                     269.2\n",
        "Date:                Thu, 13 Mar 2014   Prob (F-statistic):           4.90e-60\n",
        "Time:                        08:19:42   Log-Likelihood:                 11262.\n",
        "No. Observations:               16960   AIC:                        -2.252e+04\n",
        "Df Residuals:                   16958   BIC:                        -2.250e+04\n",
        "Df Model:                           1                                         \n",
        "==============================================================================\n",
        "                 coef    std err          t      P>|t|      [95.0% Conf. Int.]\n",
        "------------------------------------------------------------------------------\n",
        "Intercept      0.1814      0.002     80.941      0.000         0.177     0.186\n",
        "distance       0.0117      0.001     16.408      0.000         0.010     0.013\n",
        "==============================================================================\n",
        "Omnibus:                     2664.984   Durbin-Watson:                   1.478\n",
        "Prob(Omnibus):                  0.000   Jarque-Bera (JB):              877.599\n",
        "Skew:                           0.325   Prob(JB):                    2.70e-191\n",
        "Kurtosis:                       2.095   Cond. No.                         7.97\n",
        "==============================================================================\n",
        "\n",
        "                            OLS Regression Results                            \n",
        "==============================================================================\n",
        "Dep. Variable:             std_spread   R-squared:                       0.015\n",
        "Model:                            OLS   Adj. R-squared:                  0.015\n",
        "Method:                 Least Squares   F-statistic:                     259.6\n",
        "Date:                Thu, 13 Mar 2014   Prob (F-statistic):           5.61e-58\n",
        "Time:                        08:19:42   Log-Likelihood:                 62326.\n",
        "No. Observations:               16960   AIC:                        -1.246e+05\n",
        "Df Residuals:                   16958   BIC:                        -1.246e+05\n",
        "Df Model:                           1                                         \n",
        "==============================================================================\n",
        "                 coef    std err          t      P>|t|      [95.0% Conf. Int.]\n",
        "------------------------------------------------------------------------------\n",
        "Intercept      0.0134      0.000    121.605      0.000         0.013     0.014\n",
        "distance       0.0006   3.52e-05     16.113      0.000         0.000     0.001\n",
        "==============================================================================\n",
        "Omnibus:                     7645.897   Durbin-Watson:                   1.038\n",
        "Prob(Omnibus):                  0.000   Jarque-Bera (JB):            92900.394\n",
        "Skew:                           1.844   Prob(JB):                         0.00\n",
        "Kurtosis:                      13.857   Cond. No.                         7.97\n",
        "=============================================================================="
       ]
      },
      {
       "output_type": "stream",
       "stream": "stdout",
       "text": [
        "\n"
       ]
      }
     ],
     "prompt_number": 37
    },
    {
     "cell_type": "code",
     "collapsed": false,
     "input": [
      "print '\\n', df_ppd_reg[['pct_rr', 'pct_same_price', 'nb_rr',\\\n",
      "                        'abs_avg_spread', 'avg_abs_spread_rr']].describe()"
     ],
     "language": "python",
     "metadata": {},
     "outputs": [
      {
       "output_type": "stream",
       "stream": "stdout",
       "text": [
        "\n",
        "           pct_rr  pct_same_price       nb_rr  abs_avg_spread  \\\n",
        "count 16,960.0000     16,960.0000 16,960.0000     16,960.0000   \n",
        "mean       0.2147          0.1585     21.2009          0.0077   \n",
        "std        0.1256          0.1996     11.2839          0.0056   \n",
        "min        0.0000          0.0000      0.0000          0.0000   \n",
        "25%        0.1099          0.0232     13.0000          0.0028   \n",
        "50%        0.1986          0.0780     19.0000          0.0067   \n",
        "75%        0.3121          0.2092     28.0000          0.0121   \n",
        "max        0.5000          1.0000     75.0000          0.0200   \n",
        "\n",
        "       avg_abs_spread_rr  \n",
        "count        16,928.0000  \n",
        "mean              0.0120  \n",
        "std               0.0066  \n",
        "min               0.0010  \n",
        "25%               0.0082  \n",
        "50%               0.0108  \n",
        "75%               0.0142  \n",
        "max               0.2080  \n",
        "\n",
        "[8 rows x 5 columns]\n"
       ]
      }
     ],
     "prompt_number": 38
    },
    {
     "cell_type": "markdown",
     "metadata": {},
     "source": [
      "Inspect rank reversal"
     ]
    },
    {
     "cell_type": "code",
     "collapsed": false,
     "input": [
      "# Would be best to provide histogram / empirical distribution\n",
      "print df_ppd_reg[['rr_1', 'rr_2', 'rr_3', 'rr_4', 'rr_5', '5<rr<=20', 'rr>20']].sum()\n",
      "print df_ppd_reg[['rr_1', 'rr_2', 'rr_3', 'rr_4', 'rr_5', '5<rr<=20', 'rr>20']].describe()"
     ],
     "language": "python",
     "metadata": {},
     "outputs": [
      {
       "output_type": "stream",
       "stream": "stdout",
       "text": [
        "rr_1        94514\n",
        "rr_2        56900\n",
        "rr_3        40495\n",
        "rr_4        30771\n",
        "rr_5        19605\n",
        "5<rr<=20    72899\n",
        "rr>20       11059\n",
        "dtype: int64\n",
        "             rr_1        rr_2        rr_3        rr_4        rr_5    5<rr<=20  \\\n",
        "count 16,960.0000 16,960.0000 16,960.0000 16,960.0000 16,960.0000 16,960.0000   \n",
        "mean       5.5728      3.3550      2.3877      1.8143      1.1560      4.2983   \n",
        "std        4.9337      3.0283      2.2171      1.7478      1.3186      3.4057   \n",
        "min        0.0000      0.0000      0.0000      0.0000      0.0000      0.0000   \n",
        "25%        2.0000      1.0000      1.0000      0.0000      0.0000      2.0000   \n",
        "50%        4.0000      3.0000      2.0000      1.0000      1.0000      4.0000   \n",
        "75%        8.0000      5.0000      3.0000      3.0000      2.0000      6.0000   \n",
        "max       42.0000     40.0000     40.0000     13.0000     11.0000     18.0000   \n",
        "\n",
        "            rr>20  \n",
        "count 16,960.0000  \n",
        "mean       0.6521  \n",
        "std        0.9873  \n",
        "min        0.0000  \n",
        "25%        0.0000  \n",
        "50%        0.0000  \n",
        "75%        1.0000  \n",
        "max        7.0000  \n",
        "\n",
        "[8 rows x 7 columns]\n"
       ]
      }
     ],
     "prompt_number": 52
    },
    {
     "cell_type": "code",
     "collapsed": false,
     "input": [
      "print len(df_ppd_reg[df_ppd_reg['pct_rr'] < 0.1])\n",
      "print len(df_ppd_reg[(df_ppd_reg['nb_rr'] > 10) & (df_ppd_reg['pct_rr'] < 0.1)])"
     ],
     "language": "python",
     "metadata": {},
     "outputs": [
      {
       "output_type": "stream",
       "stream": "stdout",
       "text": [
        "3742\n",
        "2361\n"
       ]
      }
     ],
     "prompt_number": 40
    },
    {
     "cell_type": "code",
     "collapsed": false,
     "input": [
      "print df_ppd_reg['pct_same_price'][(df_ppd_reg['pct_rr'] < 0.1)].describe()\n",
      "print df_ppd_reg['pct_same_price'][(df_ppd_reg['nb_rr'] > 10) &\\\n",
      "                                   (df_ppd_reg['pct_rr'] < 0.1)].describe()\n",
      "print df_ppd_reg['pct_same_price'][(df_ppd_reg['nb_rr'] > 10) &\\\n",
      "                                   (df_ppd_reg['pct_rr'] < 0.1) &\\\n",
      "                                   (df_ppd_reg['avg_spread'] <= 0.01)].describe()"
     ],
     "language": "python",
     "metadata": {},
     "outputs": [
      {
       "output_type": "stream",
       "stream": "stdout",
       "text": [
        "count   3,742.0000\n",
        "mean        0.2743\n",
        "std         0.2889\n",
        "min         0.0000\n",
        "25%         0.0390\n",
        "50%         0.1472\n",
        "75%         0.4659\n",
        "max         1.0000\n",
        "Name: pct_same_price, dtype: float64\n",
        "count   2,361.0000\n",
        "mean        0.2967\n",
        "std         0.2826\n",
        "min         0.0000\n",
        "25%         0.0496\n",
        "50%         0.1897\n",
        "75%         0.5160\n",
        "max         0.9433\n",
        "Name: pct_same_price, dtype: float64\n",
        "count   1,869.0000\n",
        "mean        0.3552\n",
        "std         0.2873\n",
        "min         0.0000\n",
        "25%         0.0850\n",
        "50%         0.3014\n",
        "75%         0.5957\n",
        "max         0.9433\n",
        "Name: pct_same_price, dtype: float64\n"
       ]
      }
     ],
     "prompt_number": 47
    },
    {
     "cell_type": "code",
     "collapsed": false,
     "input": [],
     "language": "python",
     "metadata": {},
     "outputs": []
    }
   ],
   "metadata": {}
  }
 ]
}