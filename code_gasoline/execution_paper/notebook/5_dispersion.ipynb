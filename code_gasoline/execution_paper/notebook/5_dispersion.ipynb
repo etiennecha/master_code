{
 "metadata": {
  "name": "5_dispersion"
 },
 "nbformat": 3,
 "nbformat_minor": 0,
 "worksheets": [
  {
   "cells": [
    {
     "cell_type": "heading",
     "level": 1,
     "metadata": {},
     "source": [
      "The French retail gasoline market: price dispersion"
     ]
    },
    {
     "cell_type": "markdown",
     "metadata": {},
     "source": [
      "This notebook is aimed at providing advanced descriptive statistics about competition on the French retail gasoline market."
     ]
    },
    {
     "cell_type": "code",
     "collapsed": false,
     "input": [],
     "language": "python",
     "metadata": {},
     "outputs": []
    }
   ],
   "metadata": {}
  }
 ]
}