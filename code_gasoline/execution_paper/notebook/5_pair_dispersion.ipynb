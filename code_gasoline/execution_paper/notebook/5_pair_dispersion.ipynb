{
 "metadata": {
  "name": "5_pair_dispersion"
 },
 "nbformat": 3,
 "nbformat_minor": 0,
 "worksheets": [
  {
   "cells": [
    {
     "cell_type": "heading",
     "level": 1,
     "metadata": {},
     "source": [
      "The French retail gasoline market: pair price dispersion"
     ]
    },
    {
     "cell_type": "code",
     "collapsed": false,
     "input": [
      "import add_to_path_sub\n",
      "from add_to_path_sub import path_data\n",
      "from generic_master_price import *\n",
      "from generic_competition import *\n",
      "import time\n",
      "\n",
      "path_dir_built_paper = os.path.join(path_data, 'data_gasoline', 'data_built', 'data_paper')\n",
      "\n",
      "path_dir_built_json = os.path.join(path_dir_built_paper, 'data_json')\n",
      "path_diesel_price = os.path.join(path_dir_built_json, 'master_price_diesel.json')\n",
      "path_info = os.path.join(path_dir_built_json, 'master_info_diesel.json')\n",
      "path_ls_ls_competitors = os.path.join(path_dir_built_json, 'ls_ls_competitors.json')\n",
      "path_ls_tuple_competitors = os.path.join(path_dir_built_json, 'ls_tuple_competitors.json')\n",
      "\n",
      "path_dir_source = os.path.join(path_data, 'data_gasoline', 'data_source')\n",
      "path_dict_brands = os.path.join(path_dir_source, 'data_other', 'dict_brands.json')\n",
      "\n",
      "master_price = dec_json(path_diesel_price)\n",
      "master_info = dec_json(path_info)\n",
      "ls_ls_competitors = dec_json(path_ls_ls_competitors)\n",
      "ls_tuple_competitors = dec_json(path_ls_tuple_competitors)\n",
      "dict_brands = dec_json(path_dict_brands)\n",
      "\n",
      "zero_threshold = np.float64(1e-10)\n",
      "km_bound = 5\n",
      "master_np_prices = np.array(master_price['diesel_price'], np.float64)\n",
      "df_price = pd.DataFrame(master_np_prices.T, index = master_price['dates'], columns=master_price['ids'])\n",
      "\n",
      "km_bound = 5\n",
      "ls_ppd = []\n",
      "for indiv_id, ls_indiv_comp in zip(master_price['ids'], ls_ls_competitors):\n",
      "  indiv_ind_1 = master_price['ids'].index(indiv_id)\n",
      "  for (comp_id, distance) in ls_indiv_comp:\n",
      "    indiv_ind_2 = master_price['ids'].index(comp_id)\n",
      "    if distance < km_bound:\n",
      "      ls_comp_pd = get_pair_price_dispersion(master_np_prices[indiv_ind_1],\n",
      "                                             master_np_prices[indiv_ind_2],\n",
      "                                             light = False)\n",
      "      ls_ppd.append([indiv_id, comp_id, distance] + ls_comp_pd)"
     ],
     "language": "python",
     "metadata": {},
     "outputs": [],
     "prompt_number": 2
    },
    {
     "cell_type": "code",
     "collapsed": false,
     "input": [
      "#ppd_test = get_pair_price_dispersion(master_np_prices[0], master_np_prices[1], light = False)\n",
      "print ls_ppd[0][:3] + ls_ppd[0][3] + get_ls_standardized_frequency(ls_ppd[0][6][0])"
     ],
     "language": "python",
     "metadata": {},
     "outputs": [
      {
       "output_type": "stream",
       "stream": "stdout",
       "text": [
        "[u'1500007', u'1500001', 1.28, 564, 458, 59, 47, 13, 0.083333333333333329, 0.01148936170212767, 0.010000000000000009, 0.0024751773049645404, 0.00056028368794326211, 0.0070706847775238611, 4, 1, 2, 2, 1, 3, 0]\n"
       ]
      }
     ],
     "prompt_number": 32
    },
    {
     "cell_type": "code",
     "collapsed": false,
     "input": [
      "ls_scalars = ['nb_spread', 'nb_same_price', 'nb_a_cheaper', 'nb_b_cheaper', \n",
      "                'nb_rr', 'pct_rr', 'avg_abs_spread_rr', 'med_abs_spread_rr',\n",
      "                'avg_abs_spread', 'avg_spread', 'std_spread']\n",
      "ls_freq_std = ['rr_1', 'rr_2', 'rr_3', 'rr_4', 'rr_5', '5<rr<=20', 'rr>20']\n",
      "ls_columns = ['id_a', 'id_b', 'distance'] + ls_scalars + ls_freq_std\n",
      "ls_ppd_light = [ppd[:3] + ppd[3] + get_ls_standardized_frequency(ppd[6][0]) for ppd in ls_ppd]\n",
      "df_ppd = pd.DataFrame(ls_ppd_light, columns = ls_columns)\n",
      "pd.options.display.float_format = '{:6,.4f}'.format"
     ],
     "language": "python",
     "metadata": {},
     "outputs": [],
     "prompt_number": 34
    },
    {
     "cell_type": "code",
     "collapsed": false,
     "input": [
      "print len(df_ppd)\n",
      "df_ppd = df_ppd[df_ppd['nb_spread'] > 60]\n",
      "print len(df_ppd)\n",
      "print df_ppd.ix[0]"
     ],
     "language": "python",
     "metadata": {},
     "outputs": [
      {
       "output_type": "stream",
       "stream": "stdout",
       "text": [
        "70706\n",
        "70164\n",
        "id_a                 1500007\n",
        "id_b                 1500001\n",
        "distance              1.2800\n",
        "nb_spread                564\n",
        "nb_same_price            458\n",
        "nb_a_cheaper              59\n",
        "nb_b_cheaper              47\n",
        "nb_rr                     13\n",
        "pct_rr                0.0833\n",
        "avg_abs_spread_rr     0.0115\n",
        "med_abs_spread_rr     0.0100\n",
        "avg_abs_spread        0.0025\n",
        "avg_spread            0.0006\n",
        "std_spread            0.0071\n",
        "rr_1                       4\n",
        "rr_2                       1\n",
        "rr_3                       2\n",
        "rr_4                       2\n",
        "rr_5                       1\n",
        "5<rr<=20                   3\n",
        "rr>20                      0\n",
        "Name: 0, dtype: object\n"
       ]
      }
     ],
     "prompt_number": 65
    },
    {
     "cell_type": "markdown",
     "metadata": {},
     "source": [
      "First question: where to cut: differentiation or not? (Can argue about the value of spread too?)\n",
      "Requiring more than 10 rank reversals: a lot less above 0.02 ... can use as a threshold (would need to argue)"
     ]
    },
    {
     "cell_type": "code",
     "collapsed": false,
     "input": [
      "10**(-2)\n",
      "hist_test = plt.hist(df_ppd['avg_spread'][~pd.isnull(df_ppd['avg_spread'])].values, bins = 100)\n",
      "for i in range(10):\n",
      "  print i, len(df_ppd[np.abs(df_ppd['avg_spread']) > i * 10**(-2)]),\\\n",
      "        len(df_ppd[(np.abs(df_ppd['avg_spread']) > i * 10**(-2)) & (df_ppd['nb_rr'] > 10)])"
     ],
     "language": "python",
     "metadata": {},
     "outputs": [
      {
       "output_type": "stream",
       "stream": "stdout",
       "text": [
        "0 70092 22366\n",
        "1 53178 7298\n",
        "2 45054 2242\n",
        "3 "
       ]
      },
      {
       "output_type": "stream",
       "stream": "stdout",
       "text": [
        "39798 1310\n",
        "4 35798 1034\n",
        "5 32208 734\n",
        "6 28520 468\n",
        "7 24244 238\n",
        "8 "
       ]
      },
      {
       "output_type": "stream",
       "stream": "stdout",
       "text": [
        "19862 98\n",
        "9 15682 28\n"
       ]
      },
      {
       "output_type": "display_data",
       "png": "[encoded data removed]"
      }
     ],
     "prompt_number": 66
    },
    {
     "cell_type": "code",
     "collapsed": false,
     "input": [
      "df_ppd_nodiff = df_ppd[np.abs(df_ppd['avg_spread']) <= 0.02]\n",
      "df_ppd_diff = df_ppd[np.abs(df_ppd['avg_spread']) > 0.02]\n",
      "print len(df_ppd_nodiff), len(df_ppd_diff)"
     ],
     "language": "python",
     "metadata": {},
     "outputs": [
      {
       "output_type": "stream",
       "stream": "stdout",
       "text": [
        "25110 45054\n"
       ]
      }
     ],
     "prompt_number": 67
    },
    {
     "cell_type": "code",
     "collapsed": false,
     "input": [
      "print len(df_ppd_nodiff['pct_rr'][df_ppd_nodiff['pct_rr'] <= zero_threshold])\n",
      "hist_test = plt.hist(df_ppd_nodiff['pct_rr'][~pd.isnull(df_ppd_nodiff['pct_rr'])], bins = 50)"
     ],
     "language": "python",
     "metadata": {},
     "outputs": [
      {
       "output_type": "stream",
       "stream": "stdout",
       "text": [
        "180\n"
       ]
      },
      {
       "output_type": "display_data",
       "png": "[encoded data removed]"
      }
     ],
     "prompt_number": 82
    },
    {
     "cell_type": "code",
     "collapsed": false,
     "input": [
      "from statsmodels.distributions.empirical_distribution import ECDF\n",
      "sample = df_ppd_nodiff['pct_rr'][~pd.isnull(df_ppd_nodiff['pct_rr'])]\n",
      "ecdf = ECDF(sample)\n",
      "x = np.linspace(min(sample), max(sample))\n",
      "y = ecdf(x)\n",
      "plt.step(x, y)"
     ],
     "language": "python",
     "metadata": {},
     "outputs": [
      {
       "output_type": "pyout",
       "prompt_number": 77,
       "text": [
        "[<matplotlib.lines.Line2D at 0x7253fab0>]"
       ]
      },
      {
       "output_type": "display_data",
       "png": "[encoded data removed]"
      }
     ],
     "prompt_number": 77
    },
    {
     "cell_type": "code",
     "collapsed": false,
     "input": [
      "import statsmodels.api as sm\n",
      "import statsmodels.formula.api as smf\n",
      "res_rr = smf.ols(formula = 'pct_rr ~ distance', data = df_ppd_nodiff).fit()\n",
      "res_std = smf.ols(formula = 'std_spread ~ distance', data = df_ppd_nodiff).fit()\n",
      "print res_rr.summary()\n",
      "print res_std.summary()"
     ],
     "language": "python",
     "metadata": {},
     "outputs": [
      {
       "output_type": "stream",
       "stream": "stdout",
       "text": [
        "                            OLS Regression Results                            \n",
        "==============================================================================\n",
        "Dep. Variable:                 pct_rr   R-squared:                       0.005\n",
        "Model:                            OLS   Adj. R-squared:                  0.004\n",
        "Method:                 Least Squares   F-statistic:                     11.45\n",
        "Date:                Wed, 12 Mar 2014   Prob (F-statistic):           0.000726\n",
        "Time:                        18:07:04   Log-Likelihood:                 1707.3\n",
        "No. Observations:                2532   AIC:                            -3411.\n",
        "Df Residuals:                    2530   BIC:                            -3399.\n",
        "Df Model:                           1                                         \n",
        "==============================================================================\n",
        "                 coef    std err          t      P>|t|      [95.0% Conf. Int.]\n",
        "------------------------------------------------------------------------------\n",
        "Intercept      0.1686      0.005     31.070      0.000         0.158     0.179\n",
        "distance       0.0287      0.008      3.384      0.001         0.012     0.045\n",
        "==============================================================================\n",
        "Omnibus:                      279.650   Durbin-Watson:                   1.397\n",
        "Prob(Omnibus):                  0.000   Jarque-Bera (JB):              154.321\n",
        "Skew:                           0.459   Prob(JB):                     3.09e-34\n",
        "Kurtosis:                       2.214   Cond. No.                         4.66\n",
        "==============================================================================\n",
        "                            OLS Regression Results                            \n",
        "==============================================================================\n",
        "Dep. Variable:             std_spread   R-squared:                       0.002\n",
        "Model:                            OLS   Adj. R-squared:                  0.002\n",
        "Method:                 Least Squares   F-statistic:                     5.736\n",
        "Date:                Wed, 12 Mar 2014   Prob (F-statistic):             0.0167\n",
        "Time:                        18:07:04   Log-Likelihood:                 8769.1\n",
        "No. Observations:                2532   AIC:                        -1.753e+04\n",
        "Df Residuals:                    2530   BIC:                        -1.752e+04\n",
        "Df Model:                           1                                         \n",
        "==============================================================================\n",
        "                 coef    std err          t      P>|t|      [95.0% Conf. Int.]\n",
        "------------------------------------------------------------------------------\n",
        "Intercept      0.0130      0.000     38.984      0.000         0.012     0.014\n",
        "distance       0.0013      0.001      2.395      0.017         0.000     0.002\n",
        "==============================================================================\n",
        "Omnibus:                     1341.907   Durbin-Watson:                   1.337\n",
        "Prob(Omnibus):                  0.000   Jarque-Bera (JB):            12459.734\n",
        "Skew:                           2.339   Prob(JB):                         0.00\n",
        "Kurtosis:                      12.810   Cond. No.                         4.66\n",
        "==============================================================================\n"
       ]
      }
     ],
     "prompt_number": 95
    },
    {
     "cell_type": "code",
     "collapsed": false,
     "input": [
      "import statsmodels.api as sm\n",
      "import statsmodels.formula.api as smf\n",
      "res_rr = smf.ols(formula = 'pct_rr ~ distance', data = df_ppd).fit()\n",
      "res_std = smf.ols(formula = 'std_spread ~ distance', data = df_ppd).fit()\n",
      "print res_rr.summary()\n",
      "print '\\n', res_std.summary()"
     ],
     "language": "python",
     "metadata": {},
     "outputs": [
      {
       "output_type": "stream",
       "stream": "stdout",
       "text": [
        "                            OLS Regression Results                            \n",
        "==============================================================================\n",
        "Dep. Variable:                 pct_rr   R-squared:                       0.001\n",
        "Model:                            OLS   Adj. R-squared:                  0.001\n",
        "Method:                 Least Squares   F-statistic:                     79.88\n",
        "Date:                Wed, 12 Mar 2014   Prob (F-statistic):           4.07e-19\n",
        "Time:                        18:05:02   Log-Likelihood:                 43660.\n",
        "No. Observations:               70164   AIC:                        -8.732e+04\n",
        "Df Residuals:                   70162   BIC:                        -8.730e+04\n",
        "Df Model:                           1                                         \n",
        "==============================================================================\n",
        "                 coef    std err          t      P>|t|      [95.0% Conf. Int.]\n",
        "------------------------------------------------------------------------------\n",
        "Intercept      0.0842      0.001     70.661      0.000         0.082     0.087\n",
        "distance       0.0033      0.000      8.938      0.000         0.003     0.004\n",
        "==============================================================================\n",
        "Omnibus:                    12897.894   Durbin-Watson:                   1.666\n",
        "Prob(Omnibus):                  0.000   Jarque-Bera (JB):            21257.774\n",
        "Skew:                           1.317   Prob(JB):                         0.00\n",
        "Kurtosis:                       3.578   Cond. No.                         8.47\n",
        "==============================================================================\n",
        "\n",
        "                            OLS Regression Results                            \n",
        "==============================================================================\n",
        "Dep. Variable:             std_spread   R-squared:                       0.003\n",
        "Model:                            OLS   Adj. R-squared:                  0.003\n",
        "Method:                 Least Squares   F-statistic:                     236.2\n",
        "Date:                Wed, 12 Mar 2014   Prob (F-statistic):           3.21e-53\n",
        "Time:                        18:05:02   Log-Likelihood:             2.2148e+05\n",
        "No. Observations:               70164   AIC:                        -4.429e+05\n",
        "Df Residuals:                   70162   BIC:                        -4.429e+05\n",
        "Df Model:                           1                                         \n",
        "==============================================================================\n",
        "                 coef    std err          t      P>|t|      [95.0% Conf. Int.]\n",
        "------------------------------------------------------------------------------\n",
        "Intercept      0.0177   9.45e-05    187.621      0.000         0.018     0.018\n",
        "distance       0.0005   2.93e-05     15.369      0.000         0.000     0.001\n",
        "==============================================================================\n",
        "Omnibus:                    31029.564   Durbin-Watson:                   1.110\n",
        "Prob(Omnibus):                  0.000   Jarque-Bera (JB):           153890.904\n",
        "Skew:                           2.147   Prob(JB):                         0.00\n",
        "Kurtosis:                       8.848   Cond. No.                         8.47\n",
        "=============================================================================="
       ]
      },
      {
       "output_type": "stream",
       "stream": "stdout",
       "text": [
        "\n"
       ]
      }
     ],
     "prompt_number": 91
    },
    {
     "cell_type": "code",
     "collapsed": false,
     "input": [],
     "language": "python",
     "metadata": {},
     "outputs": []
    }
   ],
   "metadata": {}
  }
 ]
}