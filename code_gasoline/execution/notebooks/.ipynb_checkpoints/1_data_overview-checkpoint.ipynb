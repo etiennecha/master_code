{
 "metadata": {
  "name": ""
 },
 "nbformat": 3,
 "nbformat_minor": 0,
 "worksheets": [
  {
   "cells": [
    {
     "cell_type": "heading",
     "level": 1,
     "metadata": {},
     "source": [
      "The French retail gasoline market: data overview"
     ]
    },
    {
     "cell_type": "markdown",
     "metadata": {},
     "source": [
      "This document describes all data used in this project."
     ]
    },
    {
     "cell_type": "code",
     "collapsed": false,
     "input": [
      "import add_to_path_sub\n",
      "import pprint\n",
      "from add_to_path_sub import path_data\n",
      "from generic_master_price import *\n",
      "from generic_master_info import *\n",
      "\n",
      "path_dir_built_paper = os.path.join(path_data, 'data_gasoline', 'data_built', 'data_paper')\n",
      "path_dir_built_json = os.path.join(path_dir_built_paper, 'data_json')"
     ],
     "language": "python",
     "metadata": {},
     "outputs": [],
     "prompt_number": 2
    },
    {
     "cell_type": "heading",
     "level": 2,
     "metadata": {},
     "source": [
      "Price data"
     ]
    },
    {
     "cell_type": "markdown",
     "metadata": {},
     "source": [
      "Price records collected on a daily basis are aggregagted in a dictionary, the keys of which are fairly explicit:"
     ]
    },
    {
     "cell_type": "code",
     "collapsed": false,
     "input": [
      "path_diesel_price = os.path.join(path_dir_built_json, 'master_price_diesel.json')\n",
      "master_price = dec_json(path_diesel_price)\n",
      "print master_price.keys()"
     ],
     "language": "python",
     "metadata": {},
     "outputs": [
      {
       "output_type": "stream",
       "stream": "stdout",
       "text": [
        "[u'dates', u'dict_info', u'ids', u'missing_dates', u'diesel_date', u'diesel_price']\n"
       ]
      }
     ],
     "prompt_number": 3
    },
    {
     "cell_type": "markdown",
     "metadata": {},
     "source": [
      "It can then seen that the period studied starts on September 4, 2011 and ends on June 4, 2013, which represents 640 days. However, there are 172 days during which no data were collected (an issue that will be discussed later). The number of gas stations for which there are (at least some) price records is 10,066. \n",
      "\n",
      "Station ids are composed by the zip code ('1500' is Amb\u00e9rieu-en-Bugey) and the registration number ('007' means that it was the seventh station to register within this zip code area... but there are cases of stations creating succesively several accounts, thus \"inflating\" ids)."
     ]
    },
    {
     "cell_type": "code",
     "collapsed": false,
     "input": [
      "print 'First and last dates:', master_price['dates'][0], master_price['dates'][-1]\n",
      "print 'Length:', len(master_price['dates'])\n",
      "print 'First and last missing dates:', master_price['missing_dates'][0], master_price['missing_dates'][-1]\n",
      "print 'Lenth:', len(master_price['missing_dates'])\n",
      "print 'A few station ids:', master_price['ids'][0:5]\n",
      "print 'Nb of stations in data:', len(master_price['ids'])"
     ],
     "language": "python",
     "metadata": {},
     "outputs": [
      {
       "output_type": "stream",
       "stream": "stdout",
       "text": [
        "First and last dates: 20110904 20130604\n",
        "Length: 640\n",
        "First and last missing dates: 20111020 20130505\n",
        "Lenth: 172\n",
        "A few station ids: [u'1500007', u'1500001', u'1500004', u'1330001', u'1100001']\n",
        "Nb of stations in data: 10066\n"
       ]
      }
     ],
     "prompt_number": 4
    },
    {
     "cell_type": "markdown",
     "metadata": {},
     "source": [
      "'dict_info' is a dictionnary that originally stores all information included in price records but not as dynamic as prices.\n",
      "\n",
      "- 'brands' (a list of the brand and the day at which it was first observed), 'city' and 'name' are obtained directly from price records.\n",
      "\n",
      "- 'brand_std', 'code_geo' (insee code), 'code_geo_ardts' (insee_code with specific district codes for big cities) and rank (to be ignored) have been added later on"
     ]
    },
    {
     "cell_type": "code",
     "collapsed": false,
     "input": [
      "pprint.pprint(master_price['dict_info']['1500007'])"
     ],
     "language": "python",
     "metadata": {},
     "outputs": [
      {
       "output_type": "stream",
       "stream": "stdout",
       "text": [
        "{u'brand': [[u'INTERMARCHE', 0]],\n",
        " u'brand_std': [[u'INTERMARCHE', 0]],\n",
        " u'city': u'AMB\\xc9RIEU-EN-BUGEY',\n",
        " u'code_geo': u'01004',\n",
        " u'code_geo_ardts': u'01004',\n",
        " u'name': u'INTERMARCHE AMBERIEU EN BUGEY',\n",
        " u'rank': 0}\n"
       ]
      }
     ],
     "prompt_number": 5
    },
    {
     "cell_type": "markdown",
     "metadata": {},
     "source": [
      "Finally, 'diesel_price' and 'diesel_date' include all prices and the day at which they have been set. The presence of 'diesel_date' allows to fill short missing periods. Indeed if a new price has been set while collection was interupted, it allows to know on which day it was set (originally, it's of course indeed to allow the user of the website to know to which extent price information is reliable..)"
     ]
    },
    {
     "cell_type": "code",
     "collapsed": false,
     "input": [
      "pprint.pprint(zip(master_price['diesel_price'][0], master_price['diesel_date'][0])[18:25])"
     ],
     "language": "python",
     "metadata": {},
     "outputs": [
      {
       "output_type": "stream",
       "stream": "stdout",
       "text": [
        "[(1.319, u'19/09/11'),\n",
        " (1.319, u'19/09/11'),\n",
        " (1.319, u'19/09/11'),\n",
        " (1.319, u'19/09/11'),\n",
        " (1.309, u'26/09/11'),\n",
        " (1.299, u'27/09/11'),\n",
        " (1.299, u'27/09/11')]\n"
       ]
      }
     ],
     "prompt_number": 6
    },
    {
     "cell_type": "markdown",
     "metadata": {},
     "source": [
      "Finally, a quicky glance can be cast at a price series:"
     ]
    },
    {
     "cell_type": "code",
     "collapsed": false,
     "input": [
      "ls_time_index = [pd.to_datetime(date) for date in master_price['dates']]\n",
      "df_station = pd.DataFrame(master_price['diesel_price'][0],\\\n",
      "                          ls_time_index,\\\n",
      "                          [master_price['ids'][0]])\n",
      "df_station.plot()"
     ],
     "language": "python",
     "metadata": {},
     "outputs": [
      {
       "metadata": {},
       "output_type": "pyout",
       "prompt_number": 7,
       "text": [
        "<matplotlib.axes.AxesSubplot at 0x26880110>"
       ]
      },
      {
       "metadata": {},
       "output_type": "display_data",
       "png": "[encoded data removed]",
       "text": [
        "<matplotlib.figure.Figure at 0xf041d70>"
       ]
      }
     ],
     "prompt_number": 7
    },
    {
     "cell_type": "heading",
     "level": 2,
     "metadata": {},
     "source": [
      "Gas station info data"
     ]
    },
    {
     "cell_type": "code",
     "collapsed": false,
     "input": [
      "Gas station data are aggregated in another dictionnary:"
     ],
     "language": "python",
     "metadata": {},
     "outputs": []
    }
   ],
   "metadata": {}
  }
 ]
}