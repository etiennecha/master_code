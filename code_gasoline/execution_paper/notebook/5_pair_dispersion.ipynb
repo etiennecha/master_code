{
 "metadata": {
  "name": "5_pair_dispersion"
 },
 "nbformat": 3,
 "nbformat_minor": 0,
 "worksheets": [
  {
   "cells": [
    {
     "cell_type": "heading",
     "level": 1,
     "metadata": {},
     "source": [
      "The French retail gasoline market: pair price dispersion"
     ]
    },
    {
     "cell_type": "code",
     "collapsed": false,
     "input": [
      "import add_to_path_sub\n",
      "from add_to_path_sub import path_data\n",
      "from generic_master_price import *\n",
      "from generic_competition import *\n",
      "import time\n",
      "\n",
      "path_dir_built_paper = os.path.join(path_data, 'data_gasoline', 'data_built', 'data_paper')\n",
      "\n",
      "path_dir_built_json = os.path.join(path_dir_built_paper, 'data_json')\n",
      "path_diesel_price = os.path.join(path_dir_built_json, 'master_price_diesel.json')\n",
      "path_info = os.path.join(path_dir_built_json, 'master_info_diesel.json')\n",
      "path_ls_ls_competitors = os.path.join(path_dir_built_json, 'ls_ls_competitors.json')\n",
      "path_ls_tuple_competitors = os.path.join(path_dir_built_json, 'ls_tuple_competitors.json')\n",
      "\n",
      "path_dir_source = os.path.join(path_data, 'data_gasoline', 'data_source')\n",
      "path_dict_brands = os.path.join(path_dir_source, 'data_other', 'dict_brands.json')\n",
      "\n",
      "master_price = dec_json(path_diesel_price)\n",
      "master_info = dec_json(path_info)\n",
      "ls_ls_competitors = dec_json(path_ls_ls_competitors)\n",
      "ls_tuple_competitors = dec_json(path_ls_tuple_competitors)\n",
      "dict_brands = dec_json(path_dict_brands)\n",
      "\n",
      "zero_threshold = np.float64(1e-10)\n",
      "km_bound = 5\n",
      "master_np_prices = np.array(master_price['diesel_price'], np.float64)\n",
      "df_price = pd.DataFrame(master_np_prices.T, index = master_price['dates'], columns = master_price['ids'])\n",
      "# df_price = pd.DataFrame(master_price['diesel_price'], columns = master_price['dates'], index = master_price['ids']).T\n",
      "\n",
      "ls_ppd = []\n",
      "for indiv_id, ls_indiv_comp in zip(master_price['ids'], ls_ls_competitors):\n",
      "  indiv_ind_1 = master_price['ids'].index(indiv_id)\n",
      "  for (comp_id, distance) in ls_indiv_comp:\n",
      "    indiv_ind_2 = master_price['ids'].index(comp_id)\n",
      "    if distance < km_bound:\n",
      "      # ls_comp_pd = get_pair_price_dispersion(df_price[indiv_id], df_price[comp_id], light = False)\n",
      "      ls_comp_pd = get_pair_price_dispersion(master_np_prices[indiv_ind_1],\n",
      "                                             master_np_prices[indiv_ind_2], \n",
      "                                             light = False)\n",
      "      ls_ppd.append([indiv_id, comp_id, distance] + ls_comp_pd)"
     ],
     "language": "python",
     "metadata": {},
     "outputs": [],
     "prompt_number": 1
    },
    {
     "cell_type": "code",
     "collapsed": false,
     "input": [
      "#ppd_test = get_pair_price_dispersion(master_np_prices[0], master_np_prices[1], light = False)\n",
      "print ls_ppd[0][:3] + ls_ppd[0][3] + get_ls_standardized_frequency(ls_ppd[0][6][0])"
     ],
     "language": "python",
     "metadata": {},
     "outputs": [
      {
       "output_type": "stream",
       "stream": "stdout",
       "text": [
        "[u'1500007', u'1500001', 1.28, 564, 458, 59, 47, 13, 0.083333333333333329, 0.01148936170212767, 0.010000000000000009, 0.0024751773049645404, 0.00056028368794326211, 0.0070706847775238611, 4, 1, 2, 2, 1, 3, 0]\n"
       ]
      }
     ],
     "prompt_number": 4
    },
    {
     "cell_type": "code",
     "collapsed": false,
     "input": [
      "ls_scalars = ['nb_spread', 'nb_same_price', 'nb_a_cheaper', 'nb_b_cheaper', \n",
      "                'nb_rr', 'pct_rr', 'avg_abs_spread_rr', 'med_abs_spread_rr',\n",
      "                'avg_abs_spread', 'avg_spread', 'std_spread']\n",
      "ls_freq_std = ['rr_1', 'rr_2', 'rr_3', 'rr_4', 'rr_5', '5<rr<=20', 'rr>20']\n",
      "ls_chges = ['nb_days_1', 'nb_days_2', 'nb_prices_1', 'nb_prices_2',\n",
      "            'nb_ctd_1', 'nb_ctd_2', 'nb_chges_1', 'nb_chges_2', 'nb_sim_chges',\n",
      "            'nb_1_fol', 'nb_2_fol']\n",
      "ls_columns = ['id_1', 'id_2', 'distance'] + ls_scalars + ls_freq_std\n",
      "ls_ppd_light = [ppd[:3] + ppd[3] + get_ls_standardized_frequency(ppd[6][0]) for ppd in ls_ppd]\n",
      "df_ppd = pd.DataFrame(ls_ppd_light, columns = ls_columns)\n",
      "df_ppd['pct_same_price'] = df_ppd['nb_same_price'] / df_ppd['nb_spread']\n",
      "pd.options.display.float_format = '{:6,.4f}'.format"
     ],
     "language": "python",
     "metadata": {},
     "outputs": [],
     "prompt_number": 3
    },
    {
     "cell_type": "code",
     "collapsed": false,
     "input": [
      "# DF BRAND (LIGHT)\n",
      "dict_std_brands = {v[0]: v for k, v in dict_brands.items()}\n",
      "ls_brands = []\n",
      "for indiv_id in master_price['ids']:\n",
      "  indiv_dict_info = master_price['dict_info'][indiv_id]\n",
      "  brand_1_b = indiv_dict_info['brand_std'][0][0]\n",
      "  brand_2_b = dict_std_brands[indiv_dict_info['brand_std'][0][0]][1]\n",
      "  brand_type_b = dict_std_brands[indiv_dict_info['brand_std'][0][0]][2]\n",
      "  brand_1_e = indiv_dict_info['brand_std'][-1][0]\n",
      "  brand_2_e = dict_std_brands[indiv_dict_info['brand_std'][-1][0]][1]\n",
      "  brand_type_e = dict_std_brands[indiv_dict_info['brand_std'][-1][0]][2]\n",
      "  ls_brands.append([brand_1_b, brand_2_b, brand_type_b,\n",
      "                    brand_1_e, brand_2_e, brand_type_e])\n",
      "ls_columns = ['brand_1_b', 'brand_2_b', 'brand_type_b', 'brand_1_e', 'brand_2_e', 'brand_type_e']\n",
      "df_brands = pd.DataFrame(ls_brands, index = master_price['ids'], columns = ls_columns)\n",
      "df_brands['id'] = df_brands.index\n",
      "\n",
      "# DF PRICE CHGES\n",
      "ls_indiv_chges = []\n",
      "for indiv_ind, indiv_id in enumerate(master_price['ids']):\n",
      "  ls_indiv_chges.append(get_stats_price_chges(master_np_prices[indiv_ind], light = True))\n",
      "ls_columns = ['nb_all_chges', 'nb_valid', 'nb_no_chge', 'nb_chges', 'nb_neg_chges', 'nb_pos_chges',\n",
      "                'avg_neg_chge', 'avg_pos_chge', 'med_neg_chge', 'med_pos_chge']\n",
      "df_indiv_chges = pd.DataFrame(ls_indiv_chges, index = master_price['ids'], columns = ls_columns)\n",
      "df_brands = pd.merge(df_brands, df_indiv_chges, right_index = True, left_index = True)\n",
      "\n",
      "# MERGE DF BRANDS AND DF PAIR PD STATS (caution: changes order)\n",
      "df_brands = df_brands.rename(columns={'id': 'id_1'})\n",
      "df_ppd = pd.merge(df_ppd, df_brands, on='id_1')\n",
      "df_brands = df_brands.rename(columns={'id_1': 'id_2'})\n",
      "df_ppd = pd.merge(df_ppd, df_brands, on='id_2', suffixes=('_1', '_2'))"
     ],
     "language": "python",
     "metadata": {},
     "outputs": [],
     "prompt_number": 4
    },
    {
     "cell_type": "code",
     "collapsed": false,
     "input": [
      "print len(df_ppd)\n",
      "df_ppd = df_ppd[(df_ppd['nb_spread'] > 60)]\n",
      "print len(df_ppd)\n",
      "print df_ppd.ix[0]"
     ],
     "language": "python",
     "metadata": {},
     "outputs": [
      {
       "output_type": "stream",
       "stream": "stdout",
       "text": [
        "70706\n",
        "70164\n",
        "id_1                          1500007\n",
        "id_2                          1500001\n",
        "distance                       1.2800\n",
        "nb_spread                         564\n",
        "nb_same_price                     458\n",
        "nb_a_cheaper                       59\n",
        "nb_b_cheaper                       47\n",
        "nb_rr                              13\n",
        "pct_rr                         0.0833\n",
        "avg_abs_spread_rr              0.0115\n",
        "med_abs_spread_rr              0.0100\n",
        "avg_abs_spread                 0.0025\n",
        "avg_spread                     0.0006\n",
        "std_spread                     0.0071\n",
        "rr_1                                4\n",
        "rr_2                                1\n",
        "rr_3                                2\n",
        "rr_4                                2\n",
        "rr_5                                1\n",
        "5<rr<=20                            3\n",
        "rr>20                               0\n",
        "pct_same_price                 0.8121\n",
        "brand_1_b_1               INTERMARCHE\n",
        "brand_2_b_1             MOUSQUETAIRES\n",
        "brand_type_b_1                    SUP\n",
        "brand_1_e_1               INTERMARCHE\n",
        "brand_2_e_1             MOUSQUETAIRES\n",
        "brand_type_e_1                    SUP\n",
        "nb_all_chges_1                     96\n",
        "nb_valid_1                        559\n",
        "nb_no_chge_1                      467\n",
        "nb_chges_1                         92\n",
        "nb_neg_chges_1                     48\n",
        "nb_pos_chges_1                     44\n",
        "avg_neg_chge_1                -0.0137\n",
        "avg_pos_chge_1                 0.0127\n",
        "med_neg_chge_1                -0.0100\n",
        "med_pos_chge_1                 0.0100\n",
        "brand_1_b_2          CARREFOUR_MARKET\n",
        "brand_2_b_2                 CARREFOUR\n",
        "brand_type_b_2                    SUP\n",
        "brand_1_e_2          CARREFOUR_MARKET\n",
        "brand_2_e_2                 CARREFOUR\n",
        "brand_type_e_2                    SUP\n",
        "nb_all_chges_2                    106\n",
        "nb_valid_2                        559\n",
        "nb_no_chge_2                      457\n",
        "nb_chges_2                        102\n",
        "nb_neg_chges_2                     52\n",
        "nb_pos_chges_2                     50\n",
        "avg_neg_chge_2                -0.0119\n",
        "avg_pos_chge_2                 0.0108\n",
        "med_neg_chge_2                -0.0100\n",
        "med_pos_chge_2                 0.0100\n",
        "Name: 0, Length: 54, dtype: object"
       ]
      },
      {
       "output_type": "stream",
       "stream": "stdout",
       "text": [
        "\n"
       ]
      }
     ],
     "prompt_number": 5
    },
    {
     "cell_type": "markdown",
     "metadata": {},
     "source": [
      "First question: where to cut: differentiation or not? (Can argue about the value of spread too?)\n",
      "Requiring more than 10 rank reversals: a lot less above 0.02 ... can use as a threshold (would need to argue)"
     ]
    },
    {
     "cell_type": "code",
     "collapsed": false,
     "input": [
      "hist_test = plt.hist(np.abs(df_ppd['avg_spread'])[~pd.isnull(df_ppd['avg_spread'])].values, bins = 100)\n",
      "for i in range(10):\n",
      "  print i, len(df_ppd[np.abs(df_ppd['avg_spread']) > i * 10**(-2)]),\\\n",
      "        len(df_ppd[(np.abs(df_ppd['avg_spread']) > i * 10**(-2)) & (df_ppd['nb_rr'] > 10)])"
     ],
     "language": "python",
     "metadata": {},
     "outputs": [
      {
       "output_type": "stream",
       "stream": "stdout",
       "text": [
        "0 70092 "
       ]
      },
      {
       "output_type": "stream",
       "stream": "stdout",
       "text": [
        "22366\n",
        "1 53178 7298\n",
        "2 "
       ]
      },
      {
       "output_type": "stream",
       "stream": "stdout",
       "text": [
        "45054 2242\n",
        "3 39798 1310\n",
        "4 "
       ]
      },
      {
       "output_type": "stream",
       "stream": "stdout",
       "text": [
        "35798 1034\n",
        "5 32208 734\n",
        "6 "
       ]
      },
      {
       "output_type": "stream",
       "stream": "stdout",
       "text": [
        "28520 468\n",
        "7 24244 238\n",
        "8 19862 98\n",
        "9 "
       ]
      },
      {
       "output_type": "stream",
       "stream": "stdout",
       "text": [
        "15682 28\n"
       ]
      },
      {
       "output_type": "display_data",
       "png": "[encoded data removed]"
      }
     ],
     "prompt_number": 6
    },
    {
     "cell_type": "code",
     "collapsed": false,
     "input": [
      "df_ppd_nodiff = df_ppd[np.abs(df_ppd['avg_spread']) <= 0.02]\n",
      "df_ppd_diff = df_ppd[np.abs(df_ppd['avg_spread']) > 0.02]\n",
      "print len(df_ppd_nodiff), len(df_ppd_diff)"
     ],
     "language": "python",
     "metadata": {},
     "outputs": [
      {
       "output_type": "stream",
       "stream": "stdout",
       "text": [
        "25110 45054\n"
       ]
      }
     ],
     "prompt_number": 7
    },
    {
     "cell_type": "code",
     "collapsed": false,
     "input": [
      "print len(df_ppd_nodiff['pct_rr'][df_ppd_nodiff['pct_rr'] <= zero_threshold])\n",
      "#hist_test = plt.hist(df_ppd_nodiff['pct_rr'][~pd.isnull(df_ppd_nodiff['pct_rr'])], bins = 50)\n",
      "from statsmodels.distributions.empirical_distribution import ECDF\n",
      "df_all = df_ppd_nodiff[(~pd.isnull(df_ppd_nodiff['pct_rr'])) & (df_ppd_nodiff['distance'] <= 3)]\n",
      "df_close = df_ppd_nodiff[(~pd.isnull(df_ppd_nodiff['pct_rr'])) & (df_ppd_nodiff['distance'] <= 1)]\n",
      "df_far = df_ppd_nodiff[(~pd.isnull(df_ppd_nodiff['pct_rr'])) & (df_ppd_nodiff['distance'] > 1)]\n",
      "ecdf = ECDF(df_all['pct_rr'])\n",
      "ecdf_close = ECDF(df_close['pct_rr'])\n",
      "ecdf_far = ECDF(df_far['pct_rr'])\n",
      "x = np.linspace(min(sample), max(sample))\n",
      "y = ecdf(x)\n",
      "y_close = ecdf_close(x)\n",
      "y_far = ecdf_far(x)\n",
      "plt.step(x, y)\n",
      "plt.step(x, y_close)\n",
      "plt.step(x, y_far)\n",
      "from scipy.stats import ks_2samp\n",
      "print ks_2samp(df_close['pct_rr'], df_far['pct_rr'])\n",
      "print len(sample), len(df_close), len(df_far)\n",
      "\n",
      "for df_temp, name_df in zip([df_all, df_close, df_far], ['all', 'close', 'far']):\n",
      "  print '\\n%s' %name_df\n",
      "  print 'OIL/SUP', len(df_temp[((df_temp['brand_type_e_1'] == 'SUP') & (df_temp['brand_type_e_2'] == 'OIL')) |\\\n",
      "                   ((df_temp['brand_type_e_1'] == 'OIL') & (df_temp['brand_type_e_2'] == 'SUP'))]) / float(len(df_temp))\n",
      "  print 'SUP/SUP', len(df_temp[(df_temp['brand_type_e_1'] == 'SUP') & (df_temp['brand_type_e_2'] == 'SUP')]) / float(len(df_temp))\n",
      "  print 'OIL/OIL', len(df_temp[(df_temp['brand_type_e_1'] == 'OIL') & (df_temp['brand_type_e_2'] == 'OIL')])/ float(len(df_temp))\n",
      "  print 'IND/IND', len(df_temp[(df_temp['brand_type_e_1'] == 'IND') & (df_temp['brand_type_e_2'] == 'IND')])/ float(len(df_temp))"
     ],
     "language": "python",
     "metadata": {},
     "outputs": [
      {
       "output_type": "stream",
       "stream": "stdout",
       "text": [
        "180\n",
        "(0.12128391030382019, 5.2001034236920417e-30)"
       ]
      },
      {
       "output_type": "stream",
       "stream": "stdout",
       "text": [
        "\n",
        "12604 2566 22544\n",
        "\n",
        "all\n",
        "OIL/SUP 0.218502062837\n",
        "SUP/SUP 0.353538559188\n",
        "OIL/OIL 0.285623611552\n",
        "IND/IND 0.0184068549667\n",
        "\n",
        "close\n",
        "OIL/SUP "
       ]
      },
      {
       "output_type": "stream",
       "stream": "stdout",
       "text": [
        "0.204988308652\n",
        "SUP/SUP 0.360872954014\n",
        "OIL/OIL 0.246297739673\n",
        "IND/IND 0.028838659392\n",
        "\n",
        "far\n",
        "OIL/SUP 0.223119233499\n",
        "SUP/SUP 0.344748048261\n",
        "OIL/OIL "
       ]
      },
      {
       "output_type": "stream",
       "stream": "stdout",
       "text": [
        "0.305535841022\n",
        "IND/IND 0.0148154719659\n"
       ]
      },
      {
       "output_type": "display_data",
       "png": "[encoded data removed]"
      }
     ],
     "prompt_number": 38
    },
    {
     "cell_type": "code",
     "collapsed": false,
     "input": [
      "import statsmodels.api as sm\n",
      "import statsmodels.formula.api as smf\n",
      "# TODO: exclude same brand\n",
      "df_ppd_reg = df_ppd_nodiff\n",
      "df_ppd_reg = df_ppd_reg[(df_ppd_reg['brand_1_e_1'] != 'TOTAL_ACCESS') &\\\n",
      "                        (df_ppd_reg['brand_1_e_2'] != 'TOTAL_ACCESS') &\\\n",
      "                        (df_ppd_reg['brand_1_e_1'] != df_ppd_reg['brand_1_e_2'])]\n",
      "# df_ppd_reg = df_ppd_reg[(df_ppd_reg['brand_type_e_1'] == 'OIL') & (df_ppd_reg['brand_type_e_2'] == 'OIL')]\n",
      "df_ppd_reg = df_ppd_reg[((df_ppd_reg['brand_type_e_1'] == 'IND') & (df_ppd_reg['brand_type_e_2'] == 'SUP')) |\\\n",
      "                        ((df_ppd_reg['brand_type_e_1'] == 'SUP') & (df_ppd_reg['brand_type_e_2'] == 'IND'))]\n",
      "df_ppd_reg['abs_avg_spread'] = np.abs(df_ppd_reg['avg_spread'])\n",
      "# df_ppd_reg = df_ppd_reg[df_ppd_reg['abs_avg_spread'] <= 0.01]\n",
      "print '\\n', smf.ols(formula = 'abs_avg_spread ~ distance', data = df_ppd_reg).fit().summary()\n",
      "print '\\n', smf.ols(formula = 'avg_abs_spread ~ distance', data = df_ppd_reg).fit().summary()\n",
      "print '\\n', smf.ols(formula = 'pct_rr ~ distance', data = df_ppd_reg).fit().summary()\n",
      "print '\\n', smf.ols(formula = 'std_spread ~ distance', data = df_ppd_reg).fit().summary()"
     ],
     "language": "python",
     "metadata": {},
     "outputs": [
      {
       "output_type": "stream",
       "stream": "stdout",
       "text": [
        "\n",
        "                            OLS Regression Results                            \n",
        "==============================================================================\n",
        "Dep. Variable:         abs_avg_spread   R-squared:                       0.002\n",
        "Model:                            OLS   Adj. R-squared:                  0.000\n",
        "Method:                 Least Squares   F-statistic:                     1.201\n",
        "Date:                Thu, 13 Mar 2014   Prob (F-statistic):              0.274\n",
        "Time:                        10:59:11   Log-Likelihood:                 1863.9\n",
        "No. Observations:                 508   AIC:                            -3724.\n",
        "Df Residuals:                     506   BIC:                            -3715.\n",
        "Df Model:                           1                                         \n",
        "==============================================================================\n",
        "                 coef    std err          t      P>|t|      [95.0% Conf. Int.]\n",
        "------------------------------------------------------------------------------\n",
        "Intercept      0.0084      0.001     15.042      0.000         0.007     0.009\n",
        "distance       0.0002      0.000      1.096      0.274        -0.000     0.001\n",
        "==============================================================================\n",
        "Omnibus:                      644.088   Durbin-Watson:                   1.343\n",
        "Prob(Omnibus):                  0.000   Jarque-Bera (JB):               37.379\n",
        "Skew:                           0.176   Prob(JB):                     7.64e-09\n",
        "Kurtosis:                       1.719   Cond. No.                         6.61\n",
        "==============================================================================\n",
        "\n",
        "                            OLS Regression Results                            \n",
        "==============================================================================\n",
        "Dep. Variable:         avg_abs_spread   R-squared:                       0.065\n",
        "Model:                            OLS   Adj. R-squared:                  0.063\n",
        "Method:                 Least Squares   F-statistic:                     35.07\n",
        "Date:                Thu, 13 Mar 2014   Prob (F-statistic):           5.88e-09\n",
        "Time:                        10:59:11   Log-Likelihood:                 1815.3\n",
        "No. Observations:                 508   AIC:                            -3627.\n",
        "Df Residuals:                     506   BIC:                            -3618.\n",
        "Df Model:                           1                                         \n",
        "==============================================================================\n",
        "                 coef    std err          t      P>|t|      [95.0% Conf. Int.]\n",
        "------------------------------------------------------------------------------\n",
        "Intercept      0.0120      0.001     19.531      0.000         0.011     0.013\n",
        "distance       0.0012      0.000      5.922      0.000         0.001     0.002\n",
        "==============================================================================\n",
        "Omnibus:                       59.132   Durbin-Watson:                   1.130\n",
        "Prob(Omnibus):                  0.000   Jarque-Bera (JB):               87.804\n",
        "Skew:                           0.791   Prob(JB):                     8.58e-20\n",
        "Kurtosis:                       4.284   Cond. No.                         6.61\n",
        "==============================================================================\n",
        "\n",
        "                            OLS Regression Results                            \n",
        "==============================================================================\n",
        "Dep. Variable:                 pct_rr   R-squared:                       0.048\n",
        "Model:                            OLS   Adj. R-squared:                  0.046\n",
        "Method:                 Least Squares   F-statistic:                     25.37\n",
        "Date:                Thu, 13 Mar 2014   Prob (F-statistic):           6.59e-07\n",
        "Time:                        10:59:11   Log-Likelihood:                 289.05\n",
        "No. Observations:                 508   AIC:                            -574.1\n",
        "Df Residuals:                     506   BIC:                            -565.6\n",
        "Df Model:                           1                                         \n",
        "==============================================================================\n",
        "                 coef    std err          t      P>|t|      [95.0% Conf. Int.]\n",
        "------------------------------------------------------------------------------\n",
        "Intercept      0.1671      0.012     13.507      0.000         0.143     0.191\n",
        "distance       0.0208      0.004      5.037      0.000         0.013     0.029\n",
        "==============================================================================\n",
        "Omnibus:                      136.942   Durbin-Watson:                   1.392\n",
        "Prob(Omnibus):                  0.000   Jarque-Bera (JB):               25.162\n",
        "Skew:                           0.136   Prob(JB):                     3.44e-06\n",
        "Kurtosis:                       1.944   Cond. No.                         6.61\n",
        "=============================================================================="
       ]
      },
      {
       "output_type": "stream",
       "stream": "stdout",
       "text": [
        "\n",
        "\n",
        "                            OLS Regression Results                            \n",
        "==============================================================================\n",
        "Dep. Variable:             std_spread   R-squared:                       0.053\n",
        "Model:                            OLS   Adj. R-squared:                  0.051\n",
        "Method:                 Least Squares   F-statistic:                     28.27\n",
        "Date:                Thu, 13 Mar 2014   Prob (F-statistic):           1.58e-07\n",
        "Time:                        10:59:11   Log-Likelihood:                 1736.7\n",
        "No. Observations:                 508   AIC:                            -3469.\n",
        "Df Residuals:                     506   BIC:                            -3461.\n",
        "Df Model:                           1                                         \n",
        "==============================================================================\n",
        "                 coef    std err          t      P>|t|      [95.0% Conf. Int.]\n",
        "------------------------------------------------------------------------------\n",
        "Intercept      0.0136      0.001     19.001      0.000         0.012     0.015\n",
        "distance       0.0013      0.000      5.317      0.000         0.001     0.002\n",
        "==============================================================================\n",
        "Omnibus:                      145.434   Durbin-Watson:                   1.097\n",
        "Prob(Omnibus):                  0.000   Jarque-Bera (JB):              343.741\n",
        "Skew:                           1.472   Prob(JB):                     2.28e-75\n",
        "Kurtosis:                       5.751   Cond. No.                         6.61\n",
        "==============================================================================\n"
       ]
      }
     ],
     "prompt_number": 43
    },
    {
     "cell_type": "code",
     "collapsed": false,
     "input": [
      "print '\\n', df_ppd_reg[['pct_rr', 'pct_same_price', 'nb_rr',\\\n",
      "                        'abs_avg_spread', 'avg_abs_spread_rr']].describe()"
     ],
     "language": "python",
     "metadata": {},
     "outputs": [
      {
       "output_type": "stream",
       "stream": "stdout",
       "text": [
        "\n",
        "           pct_rr  pct_same_price       nb_rr  abs_avg_spread  \\\n",
        "count 16,960.0000     16,960.0000 16,960.0000     16,960.0000   \n",
        "mean       0.2147          0.1585     21.2009          0.0077   \n",
        "std        0.1256          0.1996     11.2839          0.0056   \n",
        "min        0.0000          0.0000      0.0000          0.0000   \n",
        "25%        0.1099          0.0232     13.0000          0.0028   \n",
        "50%        0.1986          0.0780     19.0000          0.0067   \n",
        "75%        0.3121          0.2092     28.0000          0.0121   \n",
        "max        0.5000          1.0000     75.0000          0.0200   \n",
        "\n",
        "       avg_abs_spread_rr  \n",
        "count        16,928.0000  \n",
        "mean              0.0120  \n",
        "std               0.0066  \n",
        "min               0.0010  \n",
        "25%               0.0082  \n",
        "50%               0.0108  \n",
        "75%               0.0142  \n",
        "max               0.2080  \n",
        "\n",
        "[8 rows x 5 columns]\n"
       ]
      }
     ],
     "prompt_number": 38
    },
    {
     "cell_type": "markdown",
     "metadata": {},
     "source": [
      "Inspect rank reversal"
     ]
    },
    {
     "cell_type": "code",
     "collapsed": false,
     "input": [
      "# Would be best to provide histogram / empirical distribution\n",
      "print df_ppd_reg[['rr_1', 'rr_2', 'rr_3', 'rr_4', 'rr_5', '5<rr<=20', 'rr>20']].sum()\n",
      "print df_ppd_reg[['rr_1', 'rr_2', 'rr_3', 'rr_4', 'rr_5', '5<rr<=20', 'rr>20']].describe()"
     ],
     "language": "python",
     "metadata": {},
     "outputs": [
      {
       "output_type": "stream",
       "stream": "stdout",
       "text": [
        "rr_1        94514\n",
        "rr_2        56900\n",
        "rr_3        40495\n",
        "rr_4        30771\n",
        "rr_5        19605\n",
        "5<rr<=20    72899\n",
        "rr>20       11059\n",
        "dtype: int64\n",
        "             rr_1        rr_2        rr_3        rr_4        rr_5    5<rr<=20  \\\n",
        "count 16,960.0000 16,960.0000 16,960.0000 16,960.0000 16,960.0000 16,960.0000   \n",
        "mean       5.5728      3.3550      2.3877      1.8143      1.1560      4.2983   \n",
        "std        4.9337      3.0283      2.2171      1.7478      1.3186      3.4057   \n",
        "min        0.0000      0.0000      0.0000      0.0000      0.0000      0.0000   \n",
        "25%        2.0000      1.0000      1.0000      0.0000      0.0000      2.0000   \n",
        "50%        4.0000      3.0000      2.0000      1.0000      1.0000      4.0000   \n",
        "75%        8.0000      5.0000      3.0000      3.0000      2.0000      6.0000   \n",
        "max       42.0000     40.0000     40.0000     13.0000     11.0000     18.0000   \n",
        "\n",
        "            rr>20  \n",
        "count 16,960.0000  \n",
        "mean       0.6521  \n",
        "std        0.9873  \n",
        "min        0.0000  \n",
        "25%        0.0000  \n",
        "50%        0.0000  \n",
        "75%        1.0000  \n",
        "max        7.0000  \n",
        "\n",
        "[8 rows x 7 columns]\n"
       ]
      }
     ],
     "prompt_number": 52
    },
    {
     "cell_type": "code",
     "collapsed": false,
     "input": [
      "print len(df_ppd_reg[df_ppd_reg['pct_rr'] < 0.1])\n",
      "print len(df_ppd_reg[(df_ppd_reg['nb_rr'] > 10) & (df_ppd_reg['pct_rr'] < 0.1)])"
     ],
     "language": "python",
     "metadata": {},
     "outputs": [
      {
       "output_type": "stream",
       "stream": "stdout",
       "text": [
        "3742\n",
        "2361\n"
       ]
      }
     ],
     "prompt_number": 40
    },
    {
     "cell_type": "code",
     "collapsed": false,
     "input": [
      "print df_ppd_reg['pct_same_price'][(df_ppd_reg['pct_rr'] < 0.1)].describe()\n",
      "print df_ppd_reg['pct_same_price'][(df_ppd_reg['nb_rr'] > 10) &\\\n",
      "                                   (df_ppd_reg['pct_rr'] < 0.1)].describe()\n",
      "print df_ppd_reg['pct_same_price'][(df_ppd_reg['nb_rr'] > 10) &\\\n",
      "                                   (df_ppd_reg['pct_rr'] < 0.1) &\\\n",
      "                                   (df_ppd_reg['avg_spread'] <= 0.01)].describe()"
     ],
     "language": "python",
     "metadata": {},
     "outputs": [
      {
       "output_type": "stream",
       "stream": "stdout",
       "text": [
        "count   3,742.0000\n",
        "mean        0.2743\n",
        "std         0.2889\n",
        "min         0.0000\n",
        "25%         0.0390\n",
        "50%         0.1472\n",
        "75%         0.4659\n",
        "max         1.0000\n",
        "Name: pct_same_price, dtype: float64\n",
        "count   2,361.0000\n",
        "mean        0.2967\n",
        "std         0.2826\n",
        "min         0.0000\n",
        "25%         0.0496\n",
        "50%         0.1897\n",
        "75%         0.5160\n",
        "max         0.9433\n",
        "Name: pct_same_price, dtype: float64\n",
        "count   1,869.0000\n",
        "mean        0.3552\n",
        "std         0.2873\n",
        "min         0.0000\n",
        "25%         0.0850\n",
        "50%         0.3014\n",
        "75%         0.5957\n",
        "max         0.9433\n",
        "Name: pct_same_price, dtype: float64\n"
       ]
      }
     ],
     "prompt_number": 47
    },
    {
     "cell_type": "code",
     "collapsed": false,
     "input": [],
     "language": "python",
     "metadata": {},
     "outputs": [
      {
       "output_type": "pyout",
       "prompt_number": 45,
       "text": [
        "[92, 102, 63, 10, 5]"
       ]
      }
     ],
     "prompt_number": 45
    },
    {
     "cell_type": "code",
     "collapsed": false,
     "input": [
      "print get_stats_two_firm_price_chges(master_np_prices[0], master_np_prices[1])\n",
      "print get_stats_price_chges(master_np_prices[0])\n",
      "print get_stats_price_chges(master_np_prices[1])\n",
      "# df_price_chges = df_price[1:] - df_price[:-1]"
     ],
     "language": "python",
     "metadata": {},
     "outputs": [
      {
       "output_type": "stream",
       "stream": "stdout",
       "text": [
        "[564, 564, 97, 107, 559, 559, 92, 102, 63, 10, 5]\n",
        "[564, 97, 559, 467, 92, 48, 44, -0.013729166666666676, 0.012704545454545463, -0.010000000000000009, 0.010000000000000009]\n",
        "[564, 107, 559, 457, 102, 52, 50, -0.011923076923076934, 0.010800000000000009, -0.010000000000000009, 0.010000000000000009]\n"
       ]
      }
     ],
     "prompt_number": 3
    },
    {
     "cell_type": "code",
     "collapsed": false,
     "input": [
      "ppd_res = get_pair_price_dispersion(np.array(df_price['1500006'][end:start]), np.array(df_price['1500003'][end:start]))[0:2]\n",
      "print ppd_res[0]\n",
      "print ppd_res[1:]\n",
      "\n",
      "end, start = 0, 650\n",
      "tfpc_res = get_stats_two_firm_price_chges(np.array(df_price['1500006'][end:start]), np.array(df_price['1500003'][end:start]))\n",
      "# print '\\n', tfpc_res\n",
      "psp_res = get_two_firm_similar_prices(np.array(df_price['1500006'][end:start]), np.array(df_price['1500003'][end:start]))\n",
      "# print '\\n', psp_res[0:2], len(psp_res[2]), len(psp_res[3])\n",
      "print '\\n', psp_res[2], '\\n', psp_res[3], '\\n', psp_res[4], '\\n', psp_res[5]\n",
      "\n",
      "ls_tfpc_chges = ['nb_days_1', 'nb_days_2', 'nb_prices_1', 'nb_prices_2',\n",
      "                 'nb_ctd_1', 'nb_ctd_2', 'nb_chges_1', 'nb_chges_2', 'nb_sim_chges',\n",
      "                 'nb_1_fol', 'nb_2_fol']\n",
      "print '\\n', zip(ls_tfpc_chges, tfpc_res)\n",
      "\n",
      "ls_psp = ['nb_day_spread', 'nb_same_price', 'nb_1_lead', 'nb_2_lead']\n",
      "print '\\n', zip(ls_psp, [psp_res[0], psp_res[1], len(psp_res[2]), len(psp_res[3])])\n",
      "\n",
      "pylab.rcParams['figure.figsize'] = (16.0, 5.0)\n",
      "df_price[['1500006', '1500003']][end:start].plot()"
     ],
     "language": "python",
     "metadata": {},
     "outputs": [
      {
       "output_type": "stream",
       "stream": "stdout",
       "text": [
        "[564, 171, 368, 25, 12, 0.044326241134751775, 0.014000000000000004, 0.010000000000000009, 0.0093617021276594832, 0.0081205673758864595, 0.0094057728974441535]\n",
        "[[23, 24, 25, 279, 280, 281, 282, 334, 335, 336, 337, 338, 362, 506, 543, 555, 562, 586, 587, 588, 589, 590, 593, 633, 639]]\n",
        "\n",
        "[5, 57, 95, 108, 135, 139, 143, 178, 200, 205, 222, 232, 236, 243, 262, 271, 285, 297, 381, 383, 396, 410, 416, 429, 549, 634] \n",
        "[507, 513, 524, 528, 534, 544, 556, 563, 577, 591, 594, 627] \n",
        "[4, 3, 2, 1, 1, 3, 1, 9, 1, 2, 4, 1, 1, 11, 2, 1, 5, 1, 1, 3, 1, 1, 1, 1, 6, 5] \n",
        "[3, 10, 3, 2, 9, 4, 6, 9, 1, 2, 32, 6]\n",
        "\n",
        "[('nb_days_1', 564), ('nb_days_2', 564), ('nb_prices_1', 84), ('nb_prices_2', 102), ('nb_ctd_1', 559), ('nb_ctd_2', 559), ('nb_chges_1', 79), ('nb_chges_2', 98), ('nb_sim_chges', 17), ('nb_1_fol', 32), ('nb_2_fol', 10)]\n",
        "\n",
        "[('nb_day_spread', 564), ('nb_same_price', 171), ('nb_1_lead', 26), ('nb_2_lead', 12)]\n"
       ]
      },
      {
       "output_type": "pyout",
       "prompt_number": 45,
       "text": [
        "<matplotlib.axes.AxesSubplot at 0x224b9eb0>"
       ]
      },
      {
       "output_type": "display_data",
       "png": "[encoded data removed]"
      }
     ],
     "prompt_number": 45
    },
    {
     "cell_type": "code",
     "collapsed": false,
     "input": [],
     "language": "python",
     "metadata": {},
     "outputs": [],
     "prompt_number": 36
    },
    {
     "cell_type": "code",
     "collapsed": false,
     "input": [],
     "language": "python",
     "metadata": {},
     "outputs": []
    }
   ],
   "metadata": {}
  }
 ]
}