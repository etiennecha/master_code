{
 "metadata": {
  "name": "2_data_processing"
 },
 "nbformat": 3,
 "nbformat_minor": 0,
 "worksheets": [
  {
   "cells": [
    {
     "cell_type": "heading",
     "level": 1,
     "metadata": {},
     "source": [
      "The French retail gasoline market: data processing"
     ]
    },
    {
     "cell_type": "markdown",
     "metadata": {},
     "source": [
      "This document provides an overview of all treatments applied to data before \"exploitation\". Rather than exposing the nuts and bolts, this notebook aims at:\n",
      "\n",
      "- giving an idea of the seriousness of the issues encountered\n",
      "- giving a fair idea of the quality of each treatment\n",
      "- discussing how treatments could be improved\n",
      "\n",
      "The interested reader is highly encouraged to check github for more details."
     ]
    },
    {
     "cell_type": "code",
     "collapsed": false,
     "input": [],
     "language": "python",
     "metadata": {},
     "outputs": []
    }
   ],
   "metadata": {}
  }
 ]
}