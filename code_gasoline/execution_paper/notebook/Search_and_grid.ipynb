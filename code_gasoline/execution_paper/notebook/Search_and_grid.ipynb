{
 "metadata": {
  "name": "Search_and_grid"
 },
 "nbformat": 3,
 "nbformat_minor": 0,
 "worksheets": [
  {
   "cells": [
    {
     "cell_type": "heading",
     "level": 1,
     "metadata": {},
     "source": [
      "Shoppers with grid of prices"
     ]
    },
    {
     "cell_type": "markdown",
     "metadata": {},
     "source": [
      "Key ingredients of the model are:\n",
      "\n",
      "- Number of shoppers\n",
      "- Number of loyal customers (same for each firm first)\n",
      "- Price grid unit\n",
      "- Valuation of customers (think about relaxing that...)\n",
      "- Cost (same for each first)\n",
      "\n",
      "If two firms set prices p_1, p_2, profit is easily computed as follows:\n",
      "\n",
      "Personal note: check http://www.r-bloggers.com/python-compliments-rs-shortcomings/"
     ]
    },
    {
     "cell_type": "code",
     "collapsed": false,
     "input": [
      "def compute_profit(s, l_1, l_2, c_1, c_2, p_1, p_2):\n",
      "  if p_1 > p_2:\n",
      "    profit_1 = (p_1 - c_1)*(l_1)\n",
      "    profit_2 = (p_2 - c_2)*(l_2)\n",
      "  elif p_1 == p_2:\n",
      "    profit_1 = (p_1 - c_1)*(l_1 + s/2.0)\n",
      "    profit_2 = (p_2 - c_2)*(l_2 + s/2.0)\n",
      "  else:\n",
      "    profit_1 = (p_1 - c_1)*(l_1 + s)\n",
      "    profit_2 = (p_2 - c_2)*(l_2)\n",
      "  return [profit_1, profit_2]"
     ],
     "language": "python",
     "metadata": {},
     "outputs": [],
     "prompt_number": 1
    },
    {
     "cell_type": "raw",
     "metadata": {},
     "source": [
      "It is then possible to obtain profits corresponding to each equilibrium in the grid:"
     ]
    },
    {
     "cell_type": "code",
     "collapsed": false,
     "input": [
      "import numpy as np\n",
      "import pandas as pd\n",
      "\n",
      "s, l_1, l_2 = 1, 1, 1\n",
      "c, c_1, c_2 = 1, 1, 1\n",
      "v = 2\n",
      "grid_unit = 0.1\n",
      "\n",
      "steps = (v-c+grid_unit)/grid_unit\n",
      "if np.abs(math.ceil(steps) - steps) < np.abs(math.floor(steps) - steps):\n",
      "  ar_grid_prices = np.linspace(c, v, math.ceil(steps))\n",
      "else:\n",
      "  ar_grid_prices = np.linspace(c, v, math.floor(steps))\n",
      "# print ar_grid_prices\n",
      "ls_same_price = [[x, x] for x in ar_grid_prices]\n",
      "ls_undercut = [[x-grid_unit, x] for x in ar_grid_prices]\n",
      "\n",
      "ls_same_price_profits = [compute_profit(s, l_1, l_2, c_1, c_2, p_1, p_2)\\\n",
      "                           for p_1, p_2 in ls_same_price]\n",
      "ls_undercut_profits = [compute_profit(s, l_1, l_2, c_1, c_2, p_1, p_2)\\\n",
      "                         for p_1, p_2 in ls_undercut]\n",
      "\n",
      "ls_rows = [x + y + z + t for (x, y, z, t)\\\n",
      "            in zip(ls_same_price, ls_same_price_profits, ls_undercut, ls_undercut_profits)]\n",
      "ls_col = ['p_eq', 'p2', 'profit_eq', 'profit_2_sym',\n",
      "          'p_1_cut', 'p_2', 'profit_1_cut', 'profit_2_cut']\n",
      "df_profits = pd.DataFrame(ls_rows, columns = ls_col)\n",
      "print df_profits[['p_eq', 'p_1_cut', 'profit_eq', 'profit_1_cut', 'profit_2_cut']].to_string()"
     ],
     "language": "python",
     "metadata": {},
     "outputs": [
      {
       "output_type": "stream",
       "stream": "stdout",
       "text": [
        "    p_eq  p_1_cut  profit_eq  profit_1_cut  profit_2_cut\n",
        "0    1.0      0.9       0.00          -0.2           0.0\n",
        "1    1.1      1.0       0.15           0.0           0.1\n",
        "2    1.2      1.1       0.30           0.2           0.2\n",
        "3    1.3      1.2       0.45           0.4           0.3\n",
        "4    1.4      1.3       0.60           0.6           0.4\n",
        "5    1.5      1.4       0.75           0.8           0.5\n",
        "6    1.6      1.5       0.90           1.0           0.6\n",
        "7    1.7      1.6       1.05           1.2           0.7\n",
        "8    1.8      1.7       1.20           1.4           0.8\n",
        "9    1.9      1.8       1.35           1.6           0.9\n",
        "10   2.0      1.9       1.50           1.8           1.0\n"
       ]
      }
     ],
     "prompt_number": 4
    },
    {
     "cell_type": "markdown",
     "metadata": {},
     "source": [
      "Columns p_eq and profit_eq provide each possible price and associated profit for each firm (symmetric for now hence only one profit column). If firm one deviates to p_1_cut, profit_1_cut and profit_2_cut give the profit for each firm. \n",
      "\n",
      "The last value of profit_2_cut is important: if engaged in a price war, a firm always has the possibility to set the maximum price v (valuation of consumers) and make a positive profit thanks to its loyal customers.\n",
      "\n",
      "As a consequence, no undercut (or equilibrium) can be satisfactory if profit becomes smaller than the one that can be reached by simply setting a price equal to v. In the present example, this means that any price strictly below 1.5 should never be set. A price of 1.5 would be possible as a response to 1.6, as would be a price equal to 2 (value chosen for v in the example.\n",
      "\n",
      "Finally, it is easy to see that there is no pure strategy equilibrium. Only prices between 2.0 and 1.5 are likely to be set. A symmetric mixed strategy equilibrium can then be looked for in a standard way (each player must be indifferent between prices in the support). \n",
      "\n",
      "It is first easy to see how to compute expected profit for each possible price if one assumes that the other firm sets each price with equal probability."
     ]
    },
    {
     "cell_type": "code",
     "collapsed": false,
     "input": [
      "p_lower = 1.6\n",
      "steps = (v-p_lower+grid_unit)/grid_unit\n",
      "if np.abs(math.ceil(steps) - steps) < np.abs(math.floor(steps) - steps):\n",
      "  ar_prices = np.linspace(p_lower, v, math.ceil(steps))\n",
      "else:\n",
      "  ar_prices = np.linspace(p_lower, v, math.floor(steps))\n",
      "\n",
      "print ar_prices\n",
      "\n",
      "ls_probas = [1.0/len(ar_prices) for price in ar_prices]\n",
      "\n",
      "for i, (price, proba) in enumerate(zip(ar_prices, ls_probas)):\n",
      "  expected_profit = (price - c_1)*(sum(ls_probas[i+1:]) * s +\\\n",
      "                                    proba * s/2.0 +\\\n",
      "                                    l_1)\n",
      "  print price, expected_profit"
     ],
     "language": "python",
     "metadata": {},
     "outputs": [
      {
       "output_type": "stream",
       "stream": "stdout",
       "text": [
        "[ 1.6  1.7  1.8  1.9  2. ]\n",
        "1.6 1.14\n",
        "1.7 1.19\n",
        "1.8 1.2\n",
        "1.9 1.17\n",
        "2.0 1.1\n"
       ]
      }
     ],
     "prompt_number": 5
    },
    {
     "cell_type": "markdown",
     "metadata": {},
     "source": [
      "Clearly, this does not yield an equilibrium as price 1.8 provides a higher expected profit than any other price. Finally, the equilibrium can be solved as a system of linear equations:"
     ]
    },
    {
     "cell_type": "code",
     "collapsed": false,
     "input": [
      "p_lower = 1.6\n",
      "steps = (v-p_lower+grid_unit)/grid_unit\n",
      "if np.abs(math.ceil(steps) - steps) < np.abs(math.floor(steps) - steps):\n",
      "  ar_prices = np.linspace(p_lower, v, math.ceil(steps))\n",
      "else:\n",
      "  ar_prices = np.linspace(p_lower, v, math.floor(steps))\n",
      "\n",
      "ls_ls_profits = []\n",
      "for price in ar_prices:\n",
      "  ls_profits = []\n",
      "  for price_comp in ar_prices:\n",
      "    ls_profits.append(compute_profit(s, l_1, l_2, c_1, c_2, price, price_comp)[0])\n",
      "  ls_ls_profits.append(ls_profits)\n",
      "\n",
      "np.set_printoptions(precision=3) # round float when printing\n",
      "np.set_printoptions(suppress=True) # avoid scientific notation when printing\n",
      "\n",
      "ls_ar_a = []\n",
      "for ls_profits in ls_ls_profits[1:]:\n",
      "  ar_a = np.array(ls_profits) - np.array(ls_ls_profits[0])\n",
      "  ls_ar_a.append(ar_a)\n",
      "ls_ar_a.append(np.ones(len(ar_prices)))\n",
      "ar_ar_a = np.array(ls_ar_a)\n",
      "ar_b = np.array([0 for price in ar_prices[:-1]] + [1])\n",
      "res = np.linalg.solve(ar_ar_a, ar_b)\n",
      "print len(ar_prices), np.linalg.matrix_rank(ar_ar_a)\n",
      "print ar_ar_a\n",
      "# print np.array(ls_ls_profits)\n",
      "# print ar_ar_a\n",
      "# print np.around(ar_b,2)\n",
      "df_eq_strat = pd.DataFrame(zip(ar_prices, res), columns = ['price', 'proba'])\n",
      "print df_eq_strat"
     ],
     "language": "python",
     "metadata": {},
     "outputs": [
      {
       "output_type": "stream",
       "stream": "stdout",
       "text": [
        "5 5\n",
        "[[-0.2  -0.15  0.2   0.2   0.2 ]\n",
        " [-0.1  -0.4   0.    0.4   0.4 ]\n",
        " [-0.   -0.3  -0.3   0.15  0.6 ]\n",
        " [ 0.1  -0.2  -0.2  -0.2   0.3 ]\n",
        " [ 1.    1.    1.    1.    1.  ]]\n",
        "   price     proba\n",
        "0    1.6  0.368876\n",
        "1    1.7  0.149856\n",
        "2    1.8  0.239193\n",
        "3    1.9  0.063401\n",
        "4    2.0  0.178674\n",
        "\n",
        "[5 rows x 2 columns]\n"
       ]
      }
     ],
     "prompt_number": 21
    },
    {
     "cell_type": "code",
     "collapsed": false,
     "input": [
      "\n",
      "for price in ar_grid_prices:\n",
      "  expected_profit = (price - c_1)*(df_eq_strat['proba'][df_eq_strat['price']>price].sum() * s +\\\n",
      "                                   df_eq_strat['proba'][df_eq_strat['price'] == price].sum() * s/2.0 +\\\n",
      "                                   # sum used to get 0 if empty...\n",
      "                                    l_1)\n",
      "  print price, expected_profit"
     ],
     "language": "python",
     "metadata": {},
     "outputs": [
      {
       "output_type": "stream",
       "stream": "stdout",
       "text": [
        "1.0 0.0\n",
        "1.1 0.2\n",
        "1.2 0.4\n",
        "1.3 0.6\n",
        "1.4 0.8\n",
        "1.5 1.0\n",
        "1.6 1.08933717579\n",
        "1.7 1.08933717579\n",
        "1.8 1.08933717579\n",
        "1.9 1.08933717579\n",
        "2.0 1.08933717579\n"
       ]
      }
     ],
     "prompt_number": 20
    },
    {
     "cell_type": "code",
     "collapsed": false,
     "input": [
      "(1.6 - c_1)*(sum(res[i+1:]) * s + proba * s/2.0 + l_1)"
     ],
     "language": "python",
     "metadata": {},
     "outputs": [
      {
       "output_type": "pyout",
       "prompt_number": 8,
       "text": [
        "0.54466858789625361"
       ]
      }
     ],
     "prompt_number": 8
    },
    {
     "cell_type": "code",
     "collapsed": false,
     "input": [],
     "language": "python",
     "metadata": {},
     "outputs": []
    }
   ],
   "metadata": {}
  }
 ]
}